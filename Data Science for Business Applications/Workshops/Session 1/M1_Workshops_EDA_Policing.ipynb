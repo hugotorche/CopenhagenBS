{
  "nbformat": 4,
  "nbformat_minor": 0,
  "metadata": {
    "colab": {
      "name": "M1 Workshops: EDA Policing",
      "provenance": [],
      "collapsed_sections": []
    },
    "kernelspec": {
      "name": "python3",
      "display_name": "Python 3"
    }
  },
  "cells": [
    {
      "cell_type": "markdown",
      "metadata": {
        "id": "vNTZE2wSl_5e"
      },
      "source": [
        "# Introduction\n",
        "\n",
        "Welcome to the M1 Workshop session in data visualization for Exploratory Data Analysis (EDA) in `Python`.\n",
        "\n",
        "# Application: the `Stanford Open policing project` dataset\n",
        "\n",
        "The Stanford Open Policing Dataset records trafic stops by US police including data on the vehicle, driver, violation, outcome and many more variables. It has been used in research to investigate racial bias and other issues.\n",
        "\n"
      ]
    },
    {
      "cell_type": "code",
      "metadata": {
        "id": "65tM0uqIomlW"
      },
      "source": [
        "# load packages\n",
        "import pandas as pd\n",
        "import seaborn as sns\n",
        "\n",
        "sns.set(color_codes=True)\n",
        "\n",
        "import matplotlib.pyplot as plt\n"
      ],
      "execution_count": null,
      "outputs": []
    },
    {
      "cell_type": "code",
      "metadata": {
        "id": "IQQH_px-o7pB",
        "colab": {
          "base_uri": "https://localhost:8080/"
        },
        "outputId": "ec5d8048-0a14-4b7a-9949-0131c89de560"
      },
      "source": [
        "# load the data\n",
        "data = pd.read_csv('/la_new_orleans_2020_04_01.csv')"
      ],
      "execution_count": null,
      "outputs": [
        {
          "output_type": "stream",
          "name": "stderr",
          "text": [
            "/usr/local/lib/python3.7/dist-packages/IPython/core/interactiveshell.py:2718: DtypeWarning: Columns (6) have mixed types.Specify dtype option on import or set low_memory=False.\n",
            "  interactivity=interactivity, compiler=compiler, result=result)\n"
          ]
        }
      ]
    },
    {
      "cell_type": "code",
      "metadata": {
        "id": "dSSRx5pSnGRh",
        "colab": {
          "base_uri": "https://localhost:8080/"
        },
        "outputId": "5cede5fb-d7e2-4228-8912-c608407a2e6a"
      },
      "source": [
        "# Let's check out the data\n",
        "\n",
        "data.info()"
      ],
      "execution_count": null,
      "outputs": [
        {
          "output_type": "stream",
          "name": "stdout",
          "text": [
            "<class 'pandas.core.frame.DataFrame'>\n",
            "RangeIndex: 512092 entries, 0 to 512091\n",
            "Data columns (total 32 columns):\n",
            " #   Column              Non-Null Count   Dtype  \n",
            "---  ------              --------------   -----  \n",
            " 0   raw_row_number      512092 non-null  object \n",
            " 1   date                512088 non-null  object \n",
            " 2   time                512092 non-null  object \n",
            " 3   location            416106 non-null  object \n",
            " 4   lat                 260408 non-null  float64\n",
            " 5   lng                 260408 non-null  float64\n",
            " 6   district            512092 non-null  object \n",
            " 7   zone                512092 non-null  object \n",
            " 8   subject_age         499306 non-null  float64\n",
            " 9   subject_race        500362 non-null  object \n",
            " 10  subject_sex         500362 non-null  object \n",
            " 11  officer_assignment  511969 non-null  object \n",
            " 12  type                362185 non-null  object \n",
            " 13  arrest_made         512092 non-null  bool   \n",
            " 14  citation_issued     512092 non-null  bool   \n",
            " 15  warning_issued      512092 non-null  bool   \n",
            " 16  outcome             335605 non-null  object \n",
            " 17  contraband_found    75791 non-null   object \n",
            " 18  contraband_drugs    75791 non-null   object \n",
            " 19  contraband_weapons  75791 non-null   object \n",
            " 20  frisk_performed     512092 non-null  bool   \n",
            " 21  search_conducted    512092 non-null  bool   \n",
            " 22  search_person       512092 non-null  bool   \n",
            " 23  search_vehicle      512092 non-null  bool   \n",
            " 24  search_basis        75791 non-null   object \n",
            " 25  reason_for_stop     512092 non-null  object \n",
            " 26  vehicle_color       272954 non-null  object \n",
            " 27  vehicle_make        276327 non-null  object \n",
            " 28  vehicle_model       259110 non-null  object \n",
            " 29  vehicle_year        271704 non-null  float64\n",
            " 30  raw_actions_taken   389637 non-null  object \n",
            " 31  raw_subject_race    500362 non-null  object \n",
            "dtypes: bool(7), float64(4), object(21)\n",
            "memory usage: 101.1+ MB\n"
          ]
        }
      ]
    },
    {
      "cell_type": "code",
      "metadata": {
        "id": "FqhoUQ49bgMp"
      },
      "source": [
        "data['datetime'] = data['date'].str.cat(data['time'], ' ')"
      ],
      "execution_count": null,
      "outputs": []
    },
    {
      "cell_type": "code",
      "metadata": {
        "id": "UyqHOZjbgJM9"
      },
      "source": [
        "data.index = pd.to_datetime(data['datetime'])"
      ],
      "execution_count": null,
      "outputs": []
    },
    {
      "cell_type": "code",
      "metadata": {
        "colab": {
          "base_uri": "https://localhost:8080/",
          "height": 425
        },
        "id": "vphSBgbreWZl",
        "outputId": "c7b9ab04-c521-4cef-98c5-d6b442e2c517"
      },
      "source": [
        "data.drop(columns=['date', 'time'], inplace = True)\n",
        "data.head()"
      ],
      "execution_count": null,
      "outputs": [
        {
          "output_type": "execute_result",
          "data": {
            "text/html": [
              "<div>\n",
              "<style scoped>\n",
              "    .dataframe tbody tr th:only-of-type {\n",
              "        vertical-align: middle;\n",
              "    }\n",
              "\n",
              "    .dataframe tbody tr th {\n",
              "        vertical-align: top;\n",
              "    }\n",
              "\n",
              "    .dataframe thead th {\n",
              "        text-align: right;\n",
              "    }\n",
              "</style>\n",
              "<table border=\"1\" class=\"dataframe\">\n",
              "  <thead>\n",
              "    <tr style=\"text-align: right;\">\n",
              "      <th></th>\n",
              "      <th>raw_row_number</th>\n",
              "      <th>location</th>\n",
              "      <th>lat</th>\n",
              "      <th>lng</th>\n",
              "      <th>district</th>\n",
              "      <th>zone</th>\n",
              "      <th>subject_age</th>\n",
              "      <th>subject_race</th>\n",
              "      <th>subject_sex</th>\n",
              "      <th>officer_assignment</th>\n",
              "      <th>type</th>\n",
              "      <th>arrest_made</th>\n",
              "      <th>citation_issued</th>\n",
              "      <th>warning_issued</th>\n",
              "      <th>outcome</th>\n",
              "      <th>contraband_found</th>\n",
              "      <th>contraband_drugs</th>\n",
              "      <th>contraband_weapons</th>\n",
              "      <th>frisk_performed</th>\n",
              "      <th>search_conducted</th>\n",
              "      <th>search_person</th>\n",
              "      <th>search_vehicle</th>\n",
              "      <th>search_basis</th>\n",
              "      <th>reason_for_stop</th>\n",
              "      <th>vehicle_color</th>\n",
              "      <th>vehicle_make</th>\n",
              "      <th>vehicle_model</th>\n",
              "      <th>vehicle_year</th>\n",
              "      <th>raw_actions_taken</th>\n",
              "      <th>raw_subject_race</th>\n",
              "      <th>datetime</th>\n",
              "    </tr>\n",
              "    <tr>\n",
              "      <th>datetime</th>\n",
              "      <th></th>\n",
              "      <th></th>\n",
              "      <th></th>\n",
              "      <th></th>\n",
              "      <th></th>\n",
              "      <th></th>\n",
              "      <th></th>\n",
              "      <th></th>\n",
              "      <th></th>\n",
              "      <th></th>\n",
              "      <th></th>\n",
              "      <th></th>\n",
              "      <th></th>\n",
              "      <th></th>\n",
              "      <th></th>\n",
              "      <th></th>\n",
              "      <th></th>\n",
              "      <th></th>\n",
              "      <th></th>\n",
              "      <th></th>\n",
              "      <th></th>\n",
              "      <th></th>\n",
              "      <th></th>\n",
              "      <th></th>\n",
              "      <th></th>\n",
              "      <th></th>\n",
              "      <th></th>\n",
              "      <th></th>\n",
              "      <th></th>\n",
              "      <th></th>\n",
              "      <th></th>\n",
              "    </tr>\n",
              "  </thead>\n",
              "  <tbody>\n",
              "    <tr>\n",
              "      <th>2010-01-01 01:11:00</th>\n",
              "      <td>1</td>\n",
              "      <td>NaN</td>\n",
              "      <td>NaN</td>\n",
              "      <td>NaN</td>\n",
              "      <td>6</td>\n",
              "      <td>E</td>\n",
              "      <td>26.0</td>\n",
              "      <td>black</td>\n",
              "      <td>female</td>\n",
              "      <td>6th  District</td>\n",
              "      <td>vehicular</td>\n",
              "      <td>False</td>\n",
              "      <td>False</td>\n",
              "      <td>False</td>\n",
              "      <td>NaN</td>\n",
              "      <td>NaN</td>\n",
              "      <td>NaN</td>\n",
              "      <td>NaN</td>\n",
              "      <td>False</td>\n",
              "      <td>False</td>\n",
              "      <td>False</td>\n",
              "      <td>False</td>\n",
              "      <td>NaN</td>\n",
              "      <td>TRAFFIC VIOLATION</td>\n",
              "      <td>BLACK</td>\n",
              "      <td>DODGE</td>\n",
              "      <td>CARAVAN</td>\n",
              "      <td>2005.0</td>\n",
              "      <td>NaN</td>\n",
              "      <td>BLACK</td>\n",
              "      <td>2010-01-01 01:11:00</td>\n",
              "    </tr>\n",
              "    <tr>\n",
              "      <th>2010-01-01 01:29:00</th>\n",
              "      <td>9087</td>\n",
              "      <td>NaN</td>\n",
              "      <td>NaN</td>\n",
              "      <td>NaN</td>\n",
              "      <td>7</td>\n",
              "      <td>C</td>\n",
              "      <td>37.0</td>\n",
              "      <td>black</td>\n",
              "      <td>male</td>\n",
              "      <td>7th  District</td>\n",
              "      <td>vehicular</td>\n",
              "      <td>False</td>\n",
              "      <td>False</td>\n",
              "      <td>False</td>\n",
              "      <td>NaN</td>\n",
              "      <td>NaN</td>\n",
              "      <td>NaN</td>\n",
              "      <td>NaN</td>\n",
              "      <td>False</td>\n",
              "      <td>False</td>\n",
              "      <td>False</td>\n",
              "      <td>False</td>\n",
              "      <td>NaN</td>\n",
              "      <td>TRAFFIC VIOLATION</td>\n",
              "      <td>BLUE</td>\n",
              "      <td>NISSAN</td>\n",
              "      <td>MURANO</td>\n",
              "      <td>2005.0</td>\n",
              "      <td>NaN</td>\n",
              "      <td>BLACK</td>\n",
              "      <td>2010-01-01 01:29:00</td>\n",
              "    </tr>\n",
              "    <tr>\n",
              "      <th>2010-01-01 01:29:00</th>\n",
              "      <td>9086</td>\n",
              "      <td>NaN</td>\n",
              "      <td>NaN</td>\n",
              "      <td>NaN</td>\n",
              "      <td>7</td>\n",
              "      <td>C</td>\n",
              "      <td>37.0</td>\n",
              "      <td>black</td>\n",
              "      <td>male</td>\n",
              "      <td>7th  District</td>\n",
              "      <td>vehicular</td>\n",
              "      <td>False</td>\n",
              "      <td>False</td>\n",
              "      <td>False</td>\n",
              "      <td>NaN</td>\n",
              "      <td>NaN</td>\n",
              "      <td>NaN</td>\n",
              "      <td>NaN</td>\n",
              "      <td>False</td>\n",
              "      <td>False</td>\n",
              "      <td>False</td>\n",
              "      <td>False</td>\n",
              "      <td>NaN</td>\n",
              "      <td>TRAFFIC VIOLATION</td>\n",
              "      <td>BLUE</td>\n",
              "      <td>NISSAN</td>\n",
              "      <td>MURANO</td>\n",
              "      <td>2005.0</td>\n",
              "      <td>NaN</td>\n",
              "      <td>BLACK</td>\n",
              "      <td>2010-01-01 01:29:00</td>\n",
              "    </tr>\n",
              "    <tr>\n",
              "      <th>2010-01-01 14:00:00</th>\n",
              "      <td>267</td>\n",
              "      <td>NaN</td>\n",
              "      <td>NaN</td>\n",
              "      <td>NaN</td>\n",
              "      <td>7</td>\n",
              "      <td>I</td>\n",
              "      <td>96.0</td>\n",
              "      <td>black</td>\n",
              "      <td>male</td>\n",
              "      <td>7th  District</td>\n",
              "      <td>vehicular</td>\n",
              "      <td>False</td>\n",
              "      <td>False</td>\n",
              "      <td>False</td>\n",
              "      <td>NaN</td>\n",
              "      <td>NaN</td>\n",
              "      <td>NaN</td>\n",
              "      <td>NaN</td>\n",
              "      <td>False</td>\n",
              "      <td>False</td>\n",
              "      <td>False</td>\n",
              "      <td>False</td>\n",
              "      <td>NaN</td>\n",
              "      <td>TRAFFIC VIOLATION</td>\n",
              "      <td>GRAY</td>\n",
              "      <td>JEEP</td>\n",
              "      <td>GRAND CHEROKEE</td>\n",
              "      <td>2003.0</td>\n",
              "      <td>NaN</td>\n",
              "      <td>BLACK</td>\n",
              "      <td>2010-01-01 14:00:00</td>\n",
              "    </tr>\n",
              "    <tr>\n",
              "      <th>2010-01-01 02:06:00</th>\n",
              "      <td>2</td>\n",
              "      <td>NaN</td>\n",
              "      <td>NaN</td>\n",
              "      <td>NaN</td>\n",
              "      <td>5</td>\n",
              "      <td>D</td>\n",
              "      <td>17.0</td>\n",
              "      <td>black</td>\n",
              "      <td>male</td>\n",
              "      <td>5th  District</td>\n",
              "      <td>NaN</td>\n",
              "      <td>False</td>\n",
              "      <td>False</td>\n",
              "      <td>False</td>\n",
              "      <td>NaN</td>\n",
              "      <td>NaN</td>\n",
              "      <td>NaN</td>\n",
              "      <td>NaN</td>\n",
              "      <td>False</td>\n",
              "      <td>False</td>\n",
              "      <td>False</td>\n",
              "      <td>False</td>\n",
              "      <td>NaN</td>\n",
              "      <td>CALL FOR SERVICE</td>\n",
              "      <td>NaN</td>\n",
              "      <td>NaN</td>\n",
              "      <td>NaN</td>\n",
              "      <td>NaN</td>\n",
              "      <td>NaN</td>\n",
              "      <td>BLACK</td>\n",
              "      <td>2010-01-01 02:06:00</td>\n",
              "    </tr>\n",
              "  </tbody>\n",
              "</table>\n",
              "</div>"
            ],
            "text/plain": [
              "                    raw_row_number  ...             datetime\n",
              "datetime                            ...                     \n",
              "2010-01-01 01:11:00              1  ...  2010-01-01 01:11:00\n",
              "2010-01-01 01:29:00           9087  ...  2010-01-01 01:29:00\n",
              "2010-01-01 01:29:00           9086  ...  2010-01-01 01:29:00\n",
              "2010-01-01 14:00:00            267  ...  2010-01-01 14:00:00\n",
              "2010-01-01 02:06:00              2  ...  2010-01-01 02:06:00\n",
              "\n",
              "[5 rows x 31 columns]"
            ]
          },
          "metadata": {},
          "execution_count": 125
        }
      ]
    },
    {
      "cell_type": "markdown",
      "metadata": {
        "id": "Ij61Qml8jNvb"
      },
      "source": [
        "## Ideas to look into stuff?\n",
        "\n",
        "- Crosstabs / Distribution of Sex / Race\n",
        "- Searches conducted\n",
        "- Drugs / Weapons found?\n",
        "Expensive cars vs cheap cars - proxy by vehicle age (option) \n",
        "- Sex / Race / Age vs stop-outcome"
      ]
    },
    {
      "cell_type": "code",
      "metadata": {
        "colab": {
          "base_uri": "https://localhost:8080/",
          "height": 142
        },
        "id": "Kigrg-tOtgSf",
        "outputId": "3b44e828-ffe0-4330-dabb-fa81e5156678"
      },
      "source": [
        "# Crosstabs / Distribution of Sex / Race\n",
        "\n",
        "pd.crosstab(data['subject_sex'], data['subject_race'], normalize='index')"
      ],
      "execution_count": null,
      "outputs": [
        {
          "output_type": "execute_result",
          "data": {
            "text/html": [
              "<div>\n",
              "<style scoped>\n",
              "    .dataframe tbody tr th:only-of-type {\n",
              "        vertical-align: middle;\n",
              "    }\n",
              "\n",
              "    .dataframe tbody tr th {\n",
              "        vertical-align: top;\n",
              "    }\n",
              "\n",
              "    .dataframe thead th {\n",
              "        text-align: right;\n",
              "    }\n",
              "</style>\n",
              "<table border=\"1\" class=\"dataframe\">\n",
              "  <thead>\n",
              "    <tr style=\"text-align: right;\">\n",
              "      <th>subject_race</th>\n",
              "      <th>asian/pacific islander</th>\n",
              "      <th>black</th>\n",
              "      <th>hispanic</th>\n",
              "      <th>other</th>\n",
              "      <th>unknown</th>\n",
              "      <th>white</th>\n",
              "    </tr>\n",
              "    <tr>\n",
              "      <th>subject_sex</th>\n",
              "      <th></th>\n",
              "      <th></th>\n",
              "      <th></th>\n",
              "      <th></th>\n",
              "      <th></th>\n",
              "      <th></th>\n",
              "    </tr>\n",
              "  </thead>\n",
              "  <tbody>\n",
              "    <tr>\n",
              "      <th>female</th>\n",
              "      <td>0.007846</td>\n",
              "      <td>0.715175</td>\n",
              "      <td>0.014974</td>\n",
              "      <td>0.000603</td>\n",
              "      <td>0.003362</td>\n",
              "      <td>0.258041</td>\n",
              "    </tr>\n",
              "    <tr>\n",
              "      <th>male</th>\n",
              "      <td>0.007471</td>\n",
              "      <td>0.692518</td>\n",
              "      <td>0.031905</td>\n",
              "      <td>0.000717</td>\n",
              "      <td>0.007685</td>\n",
              "      <td>0.259704</td>\n",
              "    </tr>\n",
              "  </tbody>\n",
              "</table>\n",
              "</div>"
            ],
            "text/plain": [
              "subject_race  asian/pacific islander     black  ...   unknown     white\n",
              "subject_sex                                     ...                    \n",
              "female                      0.007846  0.715175  ...  0.003362  0.258041\n",
              "male                        0.007471  0.692518  ...  0.007685  0.259704\n",
              "\n",
              "[2 rows x 6 columns]"
            ]
          },
          "metadata": {},
          "execution_count": 136
        }
      ]
    },
    {
      "cell_type": "code",
      "metadata": {
        "colab": {
          "base_uri": "https://localhost:8080/",
          "height": 317
        },
        "id": "sAO3TijLvBl2",
        "outputId": "b493cf40-3ed5-46b9-e8af-47bcae125035"
      },
      "source": [
        "# Crosstabs / Distribution of Race / Reason for stop\n",
        "\n",
        "pd.crosstab(data['subject_race'], data['reason_for_stop'], normalize='columns')"
      ],
      "execution_count": null,
      "outputs": [
        {
          "output_type": "execute_result",
          "data": {
            "text/html": [
              "<div>\n",
              "<style scoped>\n",
              "    .dataframe tbody tr th:only-of-type {\n",
              "        vertical-align: middle;\n",
              "    }\n",
              "\n",
              "    .dataframe tbody tr th {\n",
              "        vertical-align: top;\n",
              "    }\n",
              "\n",
              "    .dataframe thead th {\n",
              "        text-align: right;\n",
              "    }\n",
              "</style>\n",
              "<table border=\"1\" class=\"dataframe\">\n",
              "  <thead>\n",
              "    <tr style=\"text-align: right;\">\n",
              "      <th>reason_for_stop</th>\n",
              "      <th>CALL FOR SERVICE</th>\n",
              "      <th>CITIZEN CONTACT</th>\n",
              "      <th>CRIMINAL VIOLATION</th>\n",
              "      <th>FLAGGED DOWN</th>\n",
              "      <th>JUVENILE VIOLATION</th>\n",
              "      <th>OTHER</th>\n",
              "      <th>PRESENT AT CRIME SCENE</th>\n",
              "      <th>SUSPECT PERSON</th>\n",
              "      <th>SUSPECT VEHICLE</th>\n",
              "      <th>TRAFFIC VIOLATION</th>\n",
              "    </tr>\n",
              "    <tr>\n",
              "      <th>subject_race</th>\n",
              "      <th></th>\n",
              "      <th></th>\n",
              "      <th></th>\n",
              "      <th></th>\n",
              "      <th></th>\n",
              "      <th></th>\n",
              "      <th></th>\n",
              "      <th></th>\n",
              "      <th></th>\n",
              "      <th></th>\n",
              "    </tr>\n",
              "  </thead>\n",
              "  <tbody>\n",
              "    <tr>\n",
              "      <th>asian/pacific islander</th>\n",
              "      <td>0.005392</td>\n",
              "      <td>0.004049</td>\n",
              "      <td>0.004166</td>\n",
              "      <td>0.003605</td>\n",
              "      <td>0.000321</td>\n",
              "      <td>0.004916</td>\n",
              "      <td>0.001269</td>\n",
              "      <td>0.002110</td>\n",
              "      <td>0.003965</td>\n",
              "      <td>0.010370</td>\n",
              "    </tr>\n",
              "    <tr>\n",
              "      <th>black</th>\n",
              "      <td>0.697255</td>\n",
              "      <td>0.710526</td>\n",
              "      <td>0.535562</td>\n",
              "      <td>0.530644</td>\n",
              "      <td>0.910347</td>\n",
              "      <td>0.738288</td>\n",
              "      <td>0.794416</td>\n",
              "      <td>0.761864</td>\n",
              "      <td>0.760317</td>\n",
              "      <td>0.697728</td>\n",
              "    </tr>\n",
              "    <tr>\n",
              "      <th>hispanic</th>\n",
              "      <td>0.025748</td>\n",
              "      <td>0.018029</td>\n",
              "      <td>0.022697</td>\n",
              "      <td>0.034475</td>\n",
              "      <td>0.005463</td>\n",
              "      <td>0.020821</td>\n",
              "      <td>0.030457</td>\n",
              "      <td>0.014344</td>\n",
              "      <td>0.021445</td>\n",
              "      <td>0.031791</td>\n",
              "    </tr>\n",
              "    <tr>\n",
              "      <th>other</th>\n",
              "      <td>0.000542</td>\n",
              "      <td>0.000443</td>\n",
              "      <td>0.000500</td>\n",
              "      <td>0.000451</td>\n",
              "      <td>0.000000</td>\n",
              "      <td>0.000578</td>\n",
              "      <td>0.001269</td>\n",
              "      <td>0.000315</td>\n",
              "      <td>0.000000</td>\n",
              "      <td>0.000866</td>\n",
              "    </tr>\n",
              "    <tr>\n",
              "      <th>unknown</th>\n",
              "      <td>0.004037</td>\n",
              "      <td>0.003036</td>\n",
              "      <td>0.002366</td>\n",
              "      <td>0.004957</td>\n",
              "      <td>0.000321</td>\n",
              "      <td>0.003801</td>\n",
              "      <td>0.003807</td>\n",
              "      <td>0.001464</td>\n",
              "      <td>0.003784</td>\n",
              "      <td>0.009122</td>\n",
              "    </tr>\n",
              "    <tr>\n",
              "      <th>white</th>\n",
              "      <td>0.267025</td>\n",
              "      <td>0.263917</td>\n",
              "      <td>0.434709</td>\n",
              "      <td>0.425868</td>\n",
              "      <td>0.083548</td>\n",
              "      <td>0.231595</td>\n",
              "      <td>0.168782</td>\n",
              "      <td>0.219902</td>\n",
              "      <td>0.210488</td>\n",
              "      <td>0.250123</td>\n",
              "    </tr>\n",
              "  </tbody>\n",
              "</table>\n",
              "</div>"
            ],
            "text/plain": [
              "reason_for_stop         CALL FOR SERVICE  ...  TRAFFIC VIOLATION\n",
              "subject_race                              ...                   \n",
              "asian/pacific islander          0.005392  ...           0.010370\n",
              "black                           0.697255  ...           0.697728\n",
              "hispanic                        0.025748  ...           0.031791\n",
              "other                           0.000542  ...           0.000866\n",
              "unknown                         0.004037  ...           0.009122\n",
              "white                           0.267025  ...           0.250123\n",
              "\n",
              "[6 rows x 10 columns]"
            ]
          },
          "metadata": {},
          "execution_count": 139
        }
      ]
    },
    {
      "cell_type": "code",
      "metadata": {
        "colab": {
          "base_uri": "https://localhost:8080/"
        },
        "id": "408RgP1EvuIV",
        "outputId": "06569b71-8aec-4b6e-daeb-144d752a46da"
      },
      "source": [
        "# Grouping Race and Sex vs Arrest made\n",
        "\n",
        "data.groupby(['subject_race', 'subject_sex'])['arrest_made'].mean()"
      ],
      "execution_count": null,
      "outputs": [
        {
          "output_type": "execute_result",
          "data": {
            "text/plain": [
              "subject_race            subject_sex\n",
              "asian/pacific islander  female         0.049738\n",
              "                        male           0.085757\n",
              "black                   female         0.169189\n",
              "                        male           0.211642\n",
              "hispanic                female         0.117513\n",
              "                        male           0.162509\n",
              "other                   female         0.090909\n",
              "                        male           0.110236\n",
              "unknown                 female         0.075356\n",
              "                        male           0.079692\n",
              "white                   female         0.134734\n",
              "                        male           0.176940\n",
              "Name: arrest_made, dtype: float64"
            ]
          },
          "metadata": {},
          "execution_count": 142
        }
      ]
    },
    {
      "cell_type": "code",
      "metadata": {
        "id": "lNQoEc41o0vx",
        "colab": {
          "base_uri": "https://localhost:8080/"
        },
        "outputId": "938f86d1-9a37-4995-95d3-b18a8bad2cc7"
      },
      "source": [
        "# Arrestation rate for each race\n",
        "\n",
        "filt = (data['arrest_made'] == True)\n",
        "\n",
        "arrest_rate = ((data.loc[filt]['subject_race'].value_counts() / data['subject_race'].value_counts())*100)\n",
        "\n",
        "arrest_rate"
      ],
      "execution_count": null,
      "outputs": [
        {
          "output_type": "execute_result",
          "data": {
            "text/plain": [
              "black                     19.896575\n",
              "white                     16.467622\n",
              "hispanic                  15.521459\n",
              "asian/pacific islander     7.487477\n",
              "unknown                    7.902925\n",
              "other                     10.526316\n",
              "Name: subject_race, dtype: float64"
            ]
          },
          "metadata": {},
          "execution_count": 127
        }
      ]
    },
    {
      "cell_type": "code",
      "metadata": {
        "colab": {
          "base_uri": "https://localhost:8080/"
        },
        "id": "5-Trwo3gmx2C",
        "outputId": "093a2387-f8f5-4e5e-e577-01297ed6fee1"
      },
      "source": [
        "# Arrestation rate for each sex\n",
        "\n",
        "filt = (data['arrest_made'] == True)\n",
        "\n",
        "arrest_rate = ((data.loc[filt]['subject_sex'].value_counts() / data['subject_sex'].value_counts())*100)\n",
        "\n",
        "arrest_rate"
      ],
      "execution_count": null,
      "outputs": [
        {
          "output_type": "execute_result",
          "data": {
            "text/plain": [
              "male      19.903529\n",
              "female    15.822481\n",
              "Name: subject_sex, dtype: float64"
            ]
          },
          "metadata": {},
          "execution_count": 109
        }
      ]
    },
    {
      "cell_type": "code",
      "metadata": {
        "colab": {
          "base_uri": "https://localhost:8080/"
        },
        "id": "ywdF8bIUp6DK",
        "outputId": "591de90a-5285-4c9a-ded2-256211890650"
      },
      "source": [
        "# Arrestation rate for each age\n",
        "\n",
        "filt = (data['arrest_made'] == True)\n",
        "\n",
        "arrest_rate = ((data.loc[filt]['subject_age'].value_counts() / data['subject_age'].value_counts())*100)\n",
        "\n",
        "arrest_rate.sort_values(ascending=False).head(10)"
      ],
      "execution_count": null,
      "outputs": [
        {
          "output_type": "execute_result",
          "data": {
            "text/plain": [
              "10.0    43.333333\n",
              "13.0    41.033755\n",
              "12.0    40.529532\n",
              "11.0    37.674419\n",
              "14.0    37.615207\n",
              "15.0    34.611289\n",
              "93.0    33.333333\n",
              "16.0    30.238147\n",
              "27.0    20.700529\n",
              "35.0    20.696795\n",
              "Name: subject_age, dtype: float64"
            ]
          },
          "metadata": {},
          "execution_count": 152
        }
      ]
    },
    {
      "cell_type": "code",
      "metadata": {
        "colab": {
          "base_uri": "https://localhost:8080/"
        },
        "id": "tqYxZag7uNd8",
        "outputId": "bc137587-3b43-44ab-dbe8-508a1d850c9a"
      },
      "source": [
        "# Grouping Race vs Contraband_weapons\n",
        "\n",
        "data[data.search_conducted == True].groupby('subject_race')['contraband_weapons'].sum()"
      ],
      "execution_count": null,
      "outputs": [
        {
          "output_type": "execute_result",
          "data": {
            "text/plain": [
              "subject_race\n",
              "asian/pacific islander       9\n",
              "black                     2742\n",
              "hispanic                    40\n",
              "other                        0\n",
              "unknown                      7\n",
              "white                      311\n",
              "Name: contraband_weapons, dtype: int64"
            ]
          },
          "metadata": {},
          "execution_count": 148
        }
      ]
    },
    {
      "cell_type": "code",
      "metadata": {
        "colab": {
          "base_uri": "https://localhost:8080/"
        },
        "id": "4bu44-uyw_hm",
        "outputId": "5e8bc5f3-756c-4666-ae53-0310c548cdd1"
      },
      "source": [
        "# Where live the richest people \n",
        "\n",
        "data.groupby('district')['vehicle_year'].mean().sort_values()"
      ],
      "execution_count": null,
      "outputs": [
        {
          "output_type": "execute_result",
          "data": {
            "text/plain": [
              "district\n",
              "5        2003.450792\n",
              "5        2003.520488\n",
              "4        2003.806462\n",
              "3        2003.956794\n",
              "1        2003.957323\n",
              "4        2003.966812\n",
              "7        2003.970504\n",
              "7        2003.998879\n",
              "3        2004.020548\n",
              "8        2004.056494\n",
              "1        2004.142627\n",
              "8        2004.341650\n",
              "2        2004.589421\n",
              "2        2004.607631\n",
              "6        2005.188022\n",
              "6        2005.502055\n",
              "1|7              NaN\n",
              "3|2              NaN\n",
              "5|3|3            NaN\n",
              "6|2              NaN\n",
              "Name: vehicle_year, dtype: float64"
            ]
          },
          "metadata": {},
          "execution_count": 149
        }
      ]
    },
    {
      "cell_type": "code",
      "metadata": {
        "colab": {
          "base_uri": "https://localhost:8080/"
        },
        "id": "M86EDmnixUhH",
        "outputId": "c910b235-a3f7-48db-a2bb-c818714072af"
      },
      "source": [
        "# Look at the differences of poor vs rich district\n",
        "\n",
        "data[data.district.isin([5,6])].groupby('district').search_conducted.value_counts(normalize='columns')"
      ],
      "execution_count": null,
      "outputs": [
        {
          "output_type": "execute_result",
          "data": {
            "text/plain": [
              "district  search_conducted\n",
              "5         False               0.875089\n",
              "          True                0.124911\n",
              "6         False               0.829455\n",
              "          True                0.170545\n",
              "Name: search_conducted, dtype: float64"
            ]
          },
          "metadata": {},
          "execution_count": 156
        }
      ]
    },
    {
      "cell_type": "code",
      "metadata": {
        "colab": {
          "base_uri": "https://localhost:8080/"
        },
        "id": "AnWejTJw2IFL",
        "outputId": "77dc7c60-c94a-4112-df12-5dfa3ecbbffa"
      },
      "source": [
        "data[data.district.isin([5,6])].groupby('district').subject_race.value_counts(normalize='columns')"
      ],
      "execution_count": null,
      "outputs": [
        {
          "output_type": "execute_result",
          "data": {
            "text/plain": [
              "district  subject_race          \n",
              "5         black                     0.758880\n",
              "          white                     0.214093\n",
              "          hispanic                  0.018758\n",
              "          unknown                   0.004710\n",
              "          asian/pacific islander    0.003085\n",
              "          other                     0.000473\n",
              "6         black                     0.734431\n",
              "          white                     0.225178\n",
              "          hispanic                  0.024931\n",
              "          unknown                   0.009662\n",
              "          asian/pacific islander    0.005188\n",
              "          other                     0.000609\n",
              "Name: subject_race, dtype: float64"
            ]
          },
          "metadata": {},
          "execution_count": 157
        }
      ]
    },
    {
      "cell_type": "code",
      "metadata": {
        "id": "6u6sLRLq2Uc-"
      },
      "source": [
        "# Map Folium => TBC"
      ],
      "execution_count": null,
      "outputs": []
    }
  ]
}