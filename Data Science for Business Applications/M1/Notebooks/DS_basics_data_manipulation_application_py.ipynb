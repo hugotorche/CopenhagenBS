{
  "nbformat": 4,
  "nbformat_minor": 0,
  "metadata": {
    "colab": {
      "name": "M1-S3/4 - Python translation",
      "provenance": [],
      "collapsed_sections": [],
      "include_colab_link": true
    },
    "kernelspec": {
      "name": "python3",
      "display_name": "Python 3"
    }
  },
  "cells": [
    {
      "cell_type": "markdown",
      "metadata": {
        "id": "view-in-github",
        "colab_type": "text"
      },
      "source": [
        "<a href=\"https://colab.research.google.com/github/hugotorche/CopenhagenBS/blob/main/Data%20Science%20for%20Business%20Applications/M1/Notebooks/DS_basics_data_manipulation_application_py.ipynb\" target=\"_parent\"><img src=\"https://colab.research.google.com/assets/colab-badge.svg\" alt=\"Open In Colab\"/></a>"
      ]
    },
    {
      "cell_type": "code",
      "metadata": {
        "id": "1IFxzzzd-hRl"
      },
      "source": [
        "import pandas as pd\n",
        "import numpy as np"
      ],
      "execution_count": 17,
      "outputs": []
    },
    {
      "cell_type": "markdown",
      "metadata": {
        "id": "s0LRc_qV_rQB"
      },
      "source": [
        "\n",
        "The first part is 90% the same in python. No need for a translation\n",
        "## 2.2. Object classes\n",
        "\n",
        "Python and R objects are similar but there are some considerable differences\n",
        "R vectors can be roughly translated to lists in python.\n",
        "Below, we will try to do some of the presented operations in python."
      ]
    },
    {
      "cell_type": "code",
      "metadata": {
        "id": "6YNedwER_yer",
        "colab": {
          "base_uri": "https://localhost:8080/"
        },
        "outputId": "7366d8ec-b6ca-4e63-b59f-baceecf505a6"
      },
      "source": [
        "# [] initiate a list\n",
        "\n",
        "v1 = [1,5,11,33]\n",
        "v1"
      ],
      "execution_count": 18,
      "outputs": [
        {
          "output_type": "execute_result",
          "data": {
            "text/plain": [
              "[1, 5, 11, 33]"
            ]
          },
          "metadata": {},
          "execution_count": 18
        }
      ]
    },
    {
      "cell_type": "code",
      "metadata": {
        "id": "MuVsjqw_A5sL",
        "colab": {
          "base_uri": "https://localhost:8080/"
        },
        "outputId": "cafdc937-acf4-4515-b147-9653a83b662b"
      },
      "source": [
        "v2 = [\"hello\",\"world\"]\n",
        "v2"
      ],
      "execution_count": 19,
      "outputs": [
        {
          "output_type": "execute_result",
          "data": {
            "text/plain": [
              "['hello', 'world']"
            ]
          },
          "metadata": {},
          "execution_count": 19
        }
      ]
    },
    {
      "cell_type": "code",
      "metadata": {
        "id": "5r-3iAR3A-DC",
        "colab": {
          "base_uri": "https://localhost:8080/"
        },
        "outputId": "9761c861-8f6b-497b-bdde-15bf0bf99a8c"
      },
      "source": [
        "v3 = [True, True, False, True]\n",
        "v3"
      ],
      "execution_count": 20,
      "outputs": [
        {
          "output_type": "execute_result",
          "data": {
            "text/plain": [
              "[True, True, False, True]"
            ]
          },
          "metadata": {},
          "execution_count": 20
        }
      ]
    },
    {
      "cell_type": "markdown",
      "metadata": {
        "id": "odc1xHxmBWsA"
      },
      "source": [
        "Combining different types of elements in one vector will coerce the elements to the least restrictive type when using R\n",
        "\n",
        "In python you obtain a list of lists with all elements in their original format"
      ]
    },
    {
      "cell_type": "code",
      "metadata": {
        "id": "fQZ7HVJDBH6y",
        "colab": {
          "base_uri": "https://localhost:8080/"
        },
        "outputId": "b9460f43-56e1-4182-dd67-ce864e7d4793"
      },
      "source": [
        "v4 =[v1, v2, v3, 'boo']\n",
        "v4"
      ],
      "execution_count": 21,
      "outputs": [
        {
          "output_type": "execute_result",
          "data": {
            "text/plain": [
              "[[1, 5, 11, 33], ['hello', 'world'], [True, True, False, True], 'boo']"
            ]
          },
          "metadata": {},
          "execution_count": 21
        }
      ]
    },
    {
      "cell_type": "markdown",
      "metadata": {
        "id": "lD1HhJUdBnle"
      },
      "source": [
        "Integers (numbers) are still numbers, not strings (text). Easy to see because they don't have ' '"
      ]
    },
    {
      "cell_type": "markdown",
      "metadata": {
        "id": "4nwBrA3mB3kM"
      },
      "source": [
        "Element-wise operations: \n",
        "Are not possible with lists in the same way as in R. Addition will just lead to appending lists.\n",
        "Yet, you can achieve the same functionality using numpy.arrays rather than lists."
      ]
    },
    {
      "cell_type": "code",
      "metadata": {
        "id": "U5ozc0Q8BR4L",
        "colab": {
          "base_uri": "https://localhost:8080/"
        },
        "outputId": "83f8ce84-6a20-4dac-8341-e92c006698a3"
      },
      "source": [
        "v1 + v3"
      ],
      "execution_count": 22,
      "outputs": [
        {
          "output_type": "execute_result",
          "data": {
            "text/plain": [
              "[1, 5, 11, 33, True, True, False, True]"
            ]
          },
          "metadata": {},
          "execution_count": 22
        }
      ]
    },
    {
      "cell_type": "code",
      "metadata": {
        "id": "15du6wGyB0qj",
        "colab": {
          "base_uri": "https://localhost:8080/"
        },
        "outputId": "6bdf6f50-e2a4-4a5c-d41d-66e14209f38f"
      },
      "source": [
        "np.array(v1) + np.array(v3)"
      ],
      "execution_count": 23,
      "outputs": [
        {
          "output_type": "execute_result",
          "data": {
            "text/plain": [
              "array([ 2,  6, 11, 34])"
            ]
          },
          "metadata": {},
          "execution_count": 23
        }
      ]
    },
    {
      "cell_type": "markdown",
      "metadata": {
        "id": "Pii89a7VCguH"
      },
      "source": [
        "NumPy is a library, adding support for large, multi-dimensional arrays and matrices, along with a large collection of high-level mathematical functions to operate on these arrays. Here, you can already see that R comes from Maths and Stats, while Python is a CS language."
      ]
    },
    {
      "cell_type": "code",
      "metadata": {
        "id": "LTbWQMQyCKmT",
        "colab": {
          "base_uri": "https://localhost:8080/"
        },
        "outputId": "bfb54433-7d5b-45c9-f6d5-96759ca80ff7"
      },
      "source": [
        "# Same for multiplication\n",
        "v1 * 2"
      ],
      "execution_count": 24,
      "outputs": [
        {
          "output_type": "execute_result",
          "data": {
            "text/plain": [
              "[1, 5, 11, 33, 1, 5, 11, 33]"
            ]
          },
          "metadata": {},
          "execution_count": 24
        }
      ]
    },
    {
      "cell_type": "markdown",
      "metadata": {
        "id": "5_RPEc6LLCv8"
      },
      "source": [
        "To do math, we need to transform the list into an array"
      ]
    },
    {
      "cell_type": "code",
      "metadata": {
        "id": "fxe8YWGUC462",
        "colab": {
          "base_uri": "https://localhost:8080/"
        },
        "outputId": "8008a34b-1395-44a3-bd9f-a0d4404d751b"
      },
      "source": [
        "v1_array  = np.array(v1)\n",
        "\n",
        "v1_array * 2"
      ],
      "execution_count": 25,
      "outputs": [
        {
          "output_type": "execute_result",
          "data": {
            "text/plain": [
              "array([ 2, 10, 22, 66])"
            ]
          },
          "metadata": {},
          "execution_count": 25
        }
      ]
    },
    {
      "cell_type": "code",
      "metadata": {
        "id": "h9EGsZTRDA23",
        "colab": {
          "base_uri": "https://localhost:8080/",
          "height": 198
        },
        "outputId": "b14b3507-fcdb-456d-b2b8-0f35d382fe33"
      },
      "source": [
        "# What works in R, doesn't necessarily work in Python (probably there is some way to get there but just \n",
        "# running + gives you an error)\n",
        "v1_array + np.array([1,7])"
      ],
      "execution_count": 26,
      "outputs": [
        {
          "output_type": "error",
          "ename": "ValueError",
          "evalue": "ignored",
          "traceback": [
            "\u001b[0;31m---------------------------------------------------------------------------\u001b[0m",
            "\u001b[0;31mValueError\u001b[0m                                Traceback (most recent call last)",
            "\u001b[0;32m<ipython-input-26-f464c34b833f>\u001b[0m in \u001b[0;36m<module>\u001b[0;34m()\u001b[0m\n\u001b[1;32m      1\u001b[0m \u001b[0;31m# What works in R, doesn't necessarily work in Python (probably there is some way to get there but just\u001b[0m\u001b[0;34m\u001b[0m\u001b[0;34m\u001b[0m\u001b[0;34m\u001b[0m\u001b[0m\n\u001b[1;32m      2\u001b[0m \u001b[0;31m# running + gives you an error)\u001b[0m\u001b[0;34m\u001b[0m\u001b[0;34m\u001b[0m\u001b[0;34m\u001b[0m\u001b[0m\n\u001b[0;32m----> 3\u001b[0;31m \u001b[0mv1_array\u001b[0m \u001b[0;34m+\u001b[0m \u001b[0mnp\u001b[0m\u001b[0;34m.\u001b[0m\u001b[0marray\u001b[0m\u001b[0;34m(\u001b[0m\u001b[0;34m[\u001b[0m\u001b[0;36m1\u001b[0m\u001b[0;34m,\u001b[0m\u001b[0;36m7\u001b[0m\u001b[0;34m]\u001b[0m\u001b[0;34m)\u001b[0m\u001b[0;34m\u001b[0m\u001b[0;34m\u001b[0m\u001b[0m\n\u001b[0m",
            "\u001b[0;31mValueError\u001b[0m: operands could not be broadcast together with shapes (4,) (2,) "
          ]
        }
      ]
    },
    {
      "cell_type": "code",
      "metadata": {
        "id": "pBsnrz9GDXlU",
        "colab": {
          "base_uri": "https://localhost:8080/"
        },
        "outputId": "6a0ffedd-a4f7-4e53-9a0f-9821b0ca42fa"
      },
      "source": [
        "# that works the same way\n",
        "sum(v1)"
      ],
      "execution_count": 27,
      "outputs": [
        {
          "output_type": "execute_result",
          "data": {
            "text/plain": [
              "50"
            ]
          },
          "metadata": {},
          "execution_count": 27
        }
      ]
    },
    {
      "cell_type": "markdown",
      "metadata": {
        "id": "37KJ4XIPDwwe"
      },
      "source": [
        "For more maths you need to engage numpy or other modules (Python is not a maths language)"
      ]
    },
    {
      "cell_type": "code",
      "metadata": {
        "id": "NXuWEoQ7DrFd",
        "colab": {
          "base_uri": "https://localhost:8080/"
        },
        "outputId": "13ad89f5-68b9-4355-cc8b-b01b2a9aeea1"
      },
      "source": [
        "np.mean(v1)"
      ],
      "execution_count": 28,
      "outputs": [
        {
          "output_type": "execute_result",
          "data": {
            "text/plain": [
              "12.5"
            ]
          },
          "metadata": {},
          "execution_count": 28
        }
      ]
    },
    {
      "cell_type": "code",
      "metadata": {
        "id": "sjAX77_4KfAT",
        "colab": {
          "base_uri": "https://localhost:8080/"
        },
        "outputId": "d0839bd3-c9db-4734-f3cf-178d9ad1bcef"
      },
      "source": [
        "# Standard deviation for population - DeltaDegreesOfFreedom = 0 by default\n",
        "np.std(v1, ddof=0)"
      ],
      "execution_count": 29,
      "outputs": [
        {
          "output_type": "execute_result",
          "data": {
            "text/plain": [
              "12.359207094308275"
            ]
          },
          "metadata": {},
          "execution_count": 29
        }
      ]
    },
    {
      "cell_type": "code",
      "metadata": {
        "id": "kDOkhq4cDvVe",
        "colab": {
          "base_uri": "https://localhost:8080/"
        },
        "outputId": "4649cbce-c0ca-47b3-e4fb-7c5dd6c6be8d"
      },
      "source": [
        "# This will give you the same as R\n",
        "\n",
        "np.std(v1, ddof=1)"
      ],
      "execution_count": 30,
      "outputs": [
        {
          "output_type": "execute_result",
          "data": {
            "text/plain": [
              "14.27118308573843"
            ]
          },
          "metadata": {},
          "execution_count": 30
        }
      ]
    },
    {
      "cell_type": "code",
      "metadata": {
        "id": "gGf4jB8MKbgA",
        "colab": {
          "base_uri": "https://localhost:8080/"
        },
        "outputId": "1c28823f-45af-4b3a-dea2-561030203206"
      },
      "source": [
        "np.corrcoef(v1_array,v1_array*5)"
      ],
      "execution_count": 31,
      "outputs": [
        {
          "output_type": "execute_result",
          "data": {
            "text/plain": [
              "array([[1., 1.],\n",
              "       [1., 1.]])"
            ]
          },
          "metadata": {},
          "execution_count": 31
        }
      ]
    },
    {
      "cell_type": "code",
      "metadata": {
        "id": "VNW88bY6K6T-",
        "colab": {
          "base_uri": "https://localhost:8080/"
        },
        "outputId": "2bb78b8e-b50b-4359-d60f-eb1a5be8506c"
      },
      "source": [
        "v1_array > 2"
      ],
      "execution_count": 32,
      "outputs": [
        {
          "output_type": "execute_result",
          "data": {
            "text/plain": [
              "array([False,  True,  True,  True])"
            ]
          },
          "metadata": {},
          "execution_count": 32
        }
      ]
    },
    {
      "cell_type": "markdown",
      "metadata": {
        "id": "wFqKVINTL1RN"
      },
      "source": [
        "The majority of the contents before 2.2.5 can be found in this cheat sheet\n",
        "\n",
        "https://s3.amazonaws.com/assets.datacamp.com/blog_assets/Numpy_Python_Cheat_Sheet.pdf"
      ]
    },
    {
      "cell_type": "markdown",
      "metadata": {
        "id": "QoEnu2rcMMSY"
      },
      "source": [
        "## 2.2.5 Data Frames\n",
        "\n",
        "In Python Data Frames are managed by Pandas, a very comprehensive library for data manipulation and analysis\n",
        "\n",
        "https://pandas.pydata.org/Pandas_Cheat_Sheet.pdf"
      ]
    },
    {
      "cell_type": "code",
      "metadata": {
        "id": "_FQ-oFLZL7CG"
      },
      "source": [
        "# We construct the DF from a dictionary which is indicated by {'some_key':['some_values']}\n",
        "\n",
        "dfr1 = pd.DataFrame(\n",
        "    {'ID':range(1,5), # Python counts from 0 and the last value in a range is excluded\n",
        "     'FirstName':[\"Jesper\",\"Jonas\",\"Pernille\",\"Helle\"],\n",
        "     'Female':[False,False,True,True],\n",
        "     'Age':[22,33,44,55]\n",
        "})"
      ],
      "execution_count": null,
      "outputs": []
    },
    {
      "cell_type": "code",
      "metadata": {
        "id": "qipUW6Q1NVKY"
      },
      "source": [
        "# Python doesn't really do much factors and as you can see pandas understood your input formats\n",
        "dfr1.info()"
      ],
      "execution_count": null,
      "outputs": []
    },
    {
      "cell_type": "code",
      "metadata": {
        "id": "SD7HZIQQNkpU"
      },
      "source": [
        "dfr1.FirstName #dot notation"
      ],
      "execution_count": null,
      "outputs": []
    },
    {
      "cell_type": "code",
      "metadata": {
        "id": "0Do1Lk-uN2zO"
      },
      "source": [
        "dfr1['FirstName'] #more traditional subsetting"
      ],
      "execution_count": null,
      "outputs": []
    },
    {
      "cell_type": "code",
      "metadata": {
        "id": "zLFKVJVsN9bD"
      },
      "source": [
        "dfr1.loc[:,'FirstName'] #more complex subsetting"
      ],
      "execution_count": null,
      "outputs": []
    },
    {
      "cell_type": "code",
      "metadata": {
        "id": "9J8NRzRrOBcD"
      },
      "source": [
        "dfr1.iloc[:,1] #index based"
      ],
      "execution_count": null,
      "outputs": []
    },
    {
      "cell_type": "code",
      "metadata": {
        "id": "duwAHqnyOHlH"
      },
      "source": [
        "# Rows 1 and 2, columns 3 and 4 - the gender and age of Jesper & Jonas\n",
        "dfr1.iloc[[0,1],[2,3]]\n"
      ],
      "execution_count": null,
      "outputs": []
    },
    {
      "cell_type": "code",
      "metadata": {
        "id": "xUHIecqoOjhR"
      },
      "source": [
        "#Same thing\n",
        "dfr1.loc[[0,1],['Female','Age']]"
      ],
      "execution_count": null,
      "outputs": []
    },
    {
      "cell_type": "code",
      "metadata": {
        "id": "XDKencHoOy5O"
      },
      "source": [
        "# Rows 1 and 3, all columns\n",
        "\n",
        "dfr1.iloc[[0,2],:] # don't forget to count index-1 when going from R to python"
      ],
      "execution_count": null,
      "outputs": []
    },
    {
      "cell_type": "code",
      "metadata": {
        "id": "b8vrtaLOPBuy"
      },
      "source": [
        "#Find the names of everyone over the age of 30 in the data\n",
        "dfr1[dfr1.Age > 30]"
      ],
      "execution_count": null,
      "outputs": []
    },
    {
      "cell_type": "code",
      "metadata": {
        "id": "2ORTGEiMPR-M"
      },
      "source": [
        "# or \"Query style\" (There are always many ways of doing the same thing)\n",
        "\n",
        "dfr1.query('Age > 30')"
      ],
      "execution_count": null,
      "outputs": []
    },
    {
      "cell_type": "markdown",
      "metadata": {
        "id": "2zKsNBO2Puim"
      },
      "source": [
        "## 2.2.6 Flow Control (loops & friends)\n",
        "\n",
        "Python is made for readability and therefor tabs and new lines have syntax meaning\n"
      ]
    },
    {
      "cell_type": "code",
      "metadata": {
        "id": "OEdVwW4oPmrG"
      },
      "source": [
        "x = 5 \n",
        "y = 10\n",
        "\n",
        "if (x==0):\n",
        "  y = 0 \n",
        "else:\n",
        "  y = y/x  \n",
        "  print(y)"
      ],
      "execution_count": null,
      "outputs": []
    },
    {
      "cell_type": "code",
      "metadata": {
        "id": "CPnjWDyUQBA2"
      },
      "source": [
        "for i in range(1,x+1):\n",
        "  print(\"OMG, i just counted to \" + str(i))"
      ],
      "execution_count": null,
      "outputs": []
    },
    {
      "cell_type": "code",
      "metadata": {
        "id": "fF4dZdA_QwWQ"
      },
      "source": [
        "while x > 0:\n",
        "  print(x) \n",
        "  x = x-1"
      ],
      "execution_count": null,
      "outputs": []
    },
    {
      "cell_type": "code",
      "metadata": {
        "id": "4sLNd02bQ__C"
      },
      "source": [
        "while True: #kind of like repeat in R\n",
        "  print(x)\n",
        "  x = x + 1\n",
        "  if x > 7:\n",
        "    break"
      ],
      "execution_count": null,
      "outputs": []
    },
    {
      "cell_type": "markdown",
      "metadata": {
        "id": "6wdFDhN3VlC7"
      },
      "source": [
        "Python does not have pipes. Yet, much of the piping is very similar to dot \".\" in Python"
      ]
    },
    {
      "cell_type": "code",
      "metadata": {
        "id": "ZYJJlO9zahZH"
      },
      "source": [
        "starwars = pd.read_csv(\"https://sds-aau.github.io/SDS-master/M1/data/characters_starwars.csv\")"
      ],
      "execution_count": null,
      "outputs": []
    },
    {
      "cell_type": "markdown",
      "metadata": {
        "id": "9Fz8UY0udQAj"
      },
      "source": [
        "Python does not offer the same consistant verb and pipe grammer. But it's OK :-)\n",
        "\n",
        "More on that here: https://gist.github.com/conormm/fd8b1980c28dd21cfaf6975c86c74d07"
      ]
    },
    {
      "cell_type": "code",
      "metadata": {
        "id": "dHrWIiAac17f"
      },
      "source": [
        "# filter\n",
        "\n",
        "starwars[starwars['species'] == 'Droid']"
      ],
      "execution_count": null,
      "outputs": []
    },
    {
      "cell_type": "code",
      "metadata": {
        "id": "gVSEWCC-dET6"
      },
      "source": [
        "# select\n",
        "\n",
        "starwars[['name','homeworld']].head(10)"
      ],
      "execution_count": null,
      "outputs": []
    },
    {
      "cell_type": "code",
      "metadata": {
        "id": "h7Glc70ldbsC"
      },
      "source": [
        "starwars.drop(['birth_year','skin_color'], axis=1).head(10)"
      ],
      "execution_count": null,
      "outputs": []
    },
    {
      "cell_type": "code",
      "metadata": {
        "id": "Q5scuwupdlss"
      },
      "source": [
        "# not as pretty as in R but hey...we get there...and who wants to select that way?\n",
        "\n",
        "fancy_columns = [x for x in starwars.columns if x.endswith('color')]\n",
        "\n",
        "starwars[['name'] + fancy_columns].head(10)"
      ],
      "execution_count": null,
      "outputs": []
    },
    {
      "cell_type": "code",
      "metadata": {
        "id": "Jyx8YXN0ei0y"
      },
      "source": [
        "# arrange in python is sort_values homeworld-ascending, mass-descending\n",
        "starwars.sort_values(by=['homeworld', 'mass'], ascending=[True, False]).head(10)"
      ],
      "execution_count": null,
      "outputs": []
    },
    {
      "cell_type": "markdown",
      "metadata": {
        "id": "olwXYxJ5gveI"
      },
      "source": [
        "mutate in R is a bit weird from a python point of view. Let's try\n",
        "There are many ways to accomplish that in python\n",
        "\n",
        "In the example Daniel calculates BMI and mass.rel for all characters\n",
        "In python you can use `map` departing from a single column and `apply` departing from a whole dataframe functions for that\n",
        "\n",
        "we can combine these two with so-called lambda functions (anonymous fuctions). They have a strange syntax but are nice\n"
      ]
    },
    {
      "cell_type": "code",
      "metadata": {
        "id": "6rncjwwwfZ7t"
      },
      "source": [
        "# Complicated but good for more complex stuff\n",
        "\n",
        "starwars['bmi'] = starwars.apply(lambda x: x['mass']/(x['height'] / 100)**2, axis=1) #x is here one row of the DF "
      ],
      "execution_count": null,
      "outputs": []
    },
    {
      "cell_type": "code",
      "metadata": {
        "id": "kFBDRpP_hnm5"
      },
      "source": [
        "# easy!\n",
        "\n",
        "starwars['bmi'] = starwars['mass'] / (starwars['height'] /100)**2"
      ],
      "execution_count": null,
      "outputs": []
    },
    {
      "cell_type": "code",
      "metadata": {
        "id": "rB54QzqpiRVt"
      },
      "source": [
        "starwars['mass_rel'] = starwars['mass'] / starwars['mass'].max()"
      ],
      "execution_count": null,
      "outputs": []
    },
    {
      "cell_type": "code",
      "metadata": {
        "id": "tnSZM8WanMlj"
      },
      "source": [
        "rng = starwars.loc[:,'name':'mass'].columns.to_list() #some trickery\n",
        "\n",
        "starwars.loc[:,rng+['bmi','mass_rel']].sort_values('bmi', ascending=False).head(10)"
      ],
      "execution_count": null,
      "outputs": []
    },
    {
      "cell_type": "code",
      "metadata": {
        "id": "dgelH9ntos1Z"
      },
      "source": [
        "#summarize\n",
        "\n",
        "print(starwars['height'].min())\n",
        "print(starwars['height'].mean())\n",
        "print(starwars['height'].max())\n",
        "print(starwars['height'].std())"
      ],
      "execution_count": null,
      "outputs": []
    },
    {
      "cell_type": "code",
      "metadata": {
        "id": "5v8scrJ7owI1"
      },
      "source": [
        "# group_by\n",
        "\n",
        "starwars.groupby(by='homeworld')['height'].mean().sort_values(ascending=False).head(10)"
      ],
      "execution_count": null,
      "outputs": []
    },
    {
      "cell_type": "markdown",
      "metadata": {
        "id": "OZ1kGFoFrsDE"
      },
      "source": [
        "## 4 Case Study: Cleaning up historical data on voting of the United Nations General Assembly"
      ]
    },
    {
      "cell_type": "code",
      "metadata": {
        "id": "0l_-oKXQrDzo"
      },
      "source": [
        "# R has RDS, in Python we have parquet and a bunch of other stuff\n",
        "votes = pd.read_parquet(\"https://sds-aau.github.io/SDS-master/M1/data/votes.pq\")\n"
      ],
      "execution_count": null,
      "outputs": []
    },
    {
      "cell_type": "code",
      "metadata": {
        "id": "r3tOGPCntRy9"
      },
      "source": [
        "votes.head()"
      ],
      "execution_count": null,
      "outputs": []
    },
    {
      "cell_type": "code",
      "metadata": {
        "id": "yNrWcEjY1HqC"
      },
      "source": [
        "votes.vote.unique()"
      ],
      "execution_count": null,
      "outputs": []
    },
    {
      "cell_type": "code",
      "metadata": {
        "id": "Gg59ZOndtSpp"
      },
      "source": [
        "# 4.3.1\n",
        "votes[votes['vote'] <= 3].head()"
      ],
      "execution_count": null,
      "outputs": []
    },
    {
      "cell_type": "code",
      "metadata": {
        "id": "cyRzUloXttlh"
      },
      "source": [
        "# 4.3.2\n",
        "votes['session'] + 1945"
      ],
      "execution_count": null,
      "outputs": []
    },
    {
      "cell_type": "code",
      "metadata": {
        "id": "M16-y5ppvk3e"
      },
      "source": [
        "!pip install countrycode"
      ],
      "execution_count": null,
      "outputs": []
    },
    {
      "cell_type": "code",
      "metadata": {
        "id": "pIHQukNvw9Th"
      },
      "source": [
        "from countrycode import countrycode\n",
        "# let's measure how long it takes\n",
        "%time countries = countrycode.countrycode(votes.ccode[:100], origin='cown', target='country_name')"
      ],
      "execution_count": null,
      "outputs": []
    },
    {
      "cell_type": "markdown",
      "metadata": {
        "id": "9oh1Te1ZzR-b"
      },
      "source": [
        "The package is a bit slow and thus perhaps it is easier to speed up things by transforming only the unique country-codes and then just merge them back (this is a bit of a deviation from the R notebook)"
      ]
    },
    {
      "cell_type": "code",
      "metadata": {
        "id": "2jPfY5FuxtqI"
      },
      "source": [
        "unique_countrycodes = votes.ccode.unique()\n",
        "uniques_countries = countrycode.countrycode(unique_countrycodes, origin='cown', target='country_name')"
      ],
      "execution_count": null,
      "outputs": []
    },
    {
      "cell_type": "code",
      "metadata": {
        "id": "kbVxMX0vzv46"
      },
      "source": [
        "lookup_df = pd.DataFrame({'ccode' : unique_countrycodes,\n",
        "                          'country_name': uniques_countries})\n",
        "\n",
        "lookup_df.head()"
      ],
      "execution_count": null,
      "outputs": []
    },
    {
      "cell_type": "code",
      "metadata": {
        "id": "uG-HXMfGz3B1"
      },
      "source": [
        "#adding the countries to the initial data\n",
        "# this will be covered later\n",
        "\n",
        "votes.merge(lookup_df, how='left').head(10)"
      ],
      "execution_count": null,
      "outputs": []
    },
    {
      "cell_type": "code",
      "metadata": {
        "id": "mJUhhbNq0-3N"
      },
      "source": [
        ""
      ],
      "execution_count": null,
      "outputs": []
    },
    {
      "cell_type": "code",
      "metadata": {
        "id": "TIkvKOK60SAW"
      },
      "source": [
        "# bringing all together\n",
        "\n",
        "votes = votes[votes.vote <= 3]\n",
        "votes['year'] = votes['session'] + 1945\n",
        "votes = votes.merge(lookup_df, how='left') # left merge on ccode\n",
        "votes = votes.sort_values(['year','rcid','ccode'])\n"
      ],
      "execution_count": null,
      "outputs": []
    },
    {
      "cell_type": "code",
      "metadata": {
        "id": "iV4C8Mjk3Oh3"
      },
      "source": [
        "votes.reset_index(drop=True,inplace=True)"
      ],
      "execution_count": null,
      "outputs": []
    },
    {
      "cell_type": "code",
      "metadata": {
        "id": "7vCbR5Oi1osQ"
      },
      "source": [
        "votes.head(10)"
      ],
      "execution_count": null,
      "outputs": []
    },
    {
      "cell_type": "markdown",
      "metadata": {
        "id": "KcJzpo_v2L6A"
      },
      "source": [
        "## 4.4 Generating first insights"
      ]
    },
    {
      "cell_type": "code",
      "metadata": {
        "id": "2BT2qGj-1r_F"
      },
      "source": [
        "# not entirely sure where some votes went missing as compared to R\n",
        "# find it our, ppl\n",
        "len(votes[votes.vote == 1]) / len(votes)"
      ],
      "execution_count": null,
      "outputs": []
    },
    {
      "cell_type": "code",
      "metadata": {
        "id": "9JYxRhay2iEM"
      },
      "source": [
        "# Using nice built in stuff\n",
        "\n",
        "votes.vote.value_counts(normalize=True)"
      ],
      "execution_count": null,
      "outputs": []
    },
    {
      "cell_type": "code",
      "metadata": {
        "id": "mozXVLQG4pYh"
      },
      "source": [
        "votes.groupby('year')['vote'].value_counts(normalize=True)"
      ],
      "execution_count": null,
      "outputs": []
    },
    {
      "cell_type": "markdown",
      "metadata": {
        "id": "77cjR__-TDmf"
      },
      "source": [
        "The rest of this section has ben covered in many assignments and the python EDA lecture\n",
        "\n",
        "descriptions <- readRDS(\"data/UN_votes_descriptions.rds\")"
      ]
    },
    {
      "cell_type": "code",
      "metadata": {
        "id": "zJNSvjD843QP"
      },
      "source": [
        "!wget https://github.com/SDS-AAU/M1-2019/raw/master/data/UN_votes_descriptions.rds"
      ],
      "execution_count": null,
      "outputs": []
    },
    {
      "cell_type": "code",
      "metadata": {
        "id": "FEUDvx13Ti4o"
      },
      "source": [
        "!pip install pyreadr"
      ],
      "execution_count": null,
      "outputs": []
    },
    {
      "cell_type": "code",
      "metadata": {
        "id": "CCM7XaesTjUQ"
      },
      "source": [
        "import pyreadr"
      ],
      "execution_count": null,
      "outputs": []
    },
    {
      "cell_type": "code",
      "metadata": {
        "id": "keiyoYyeTmlm"
      },
      "source": [
        "result = pyreadr.read_r('UN_votes_descriptions.rds')"
      ],
      "execution_count": null,
      "outputs": []
    },
    {
      "cell_type": "code",
      "metadata": {
        "id": "rteCs7pxT1nI"
      },
      "source": [
        "descriptions = result[None]"
      ],
      "execution_count": null,
      "outputs": []
    },
    {
      "cell_type": "code",
      "metadata": {
        "id": "dTtCZyBTT4c3"
      },
      "source": [
        "descriptions['year'] = pd.to_datetime(descriptions.date).dt.year"
      ],
      "execution_count": null,
      "outputs": []
    },
    {
      "cell_type": "code",
      "metadata": {
        "id": "dX7-0w4kVGeZ"
      },
      "source": [
        "votes_joined = votes.merge(descriptions, how='inner')\n",
        "votes_joined.drop(['ccode','date','session','unres'], axis=1, inplace=True)\n",
        "votes_joined.head()"
      ],
      "execution_count": null,
      "outputs": []
    },
    {
      "cell_type": "code",
      "metadata": {
        "id": "rdTrkgZCXbrS"
      },
      "source": [
        "us_col_perc = votes_joined[(votes_joined.country_name == 'DENMARK')].groupby('year')['vote'].value_counts(normalize=True)\n",
        "us_col_perc.loc[:,1].plot()"
      ],
      "execution_count": null,
      "outputs": []
    },
    {
      "cell_type": "code",
      "metadata": {
        "id": "rh_ceJwII8EK"
      },
      "source": [
        "countries = [\"United States\", \"China\", \"France\", \"Denmark\"]\n",
        "\n",
        "countries = [country.upper() for country in countries] # Upper casing\n",
        "print(countries) # just display - no function\n",
        "\n",
        "\n",
        "votes_joined[votes_joined['country_name'].isin(countries)].head()"
      ],
      "execution_count": null,
      "outputs": []
    },
    {
      "cell_type": "code",
      "metadata": {
        "id": "HbXvttc5K3fq"
      },
      "source": [
        "# Yes, python can do pretty plots, too\n",
        "\n",
        "import seaborn as sns\n",
        "sns.set(style=\"darkgrid\")\n",
        "\n",
        "sns.set(rc={'figure.figsize':(11.7,8.27)})"
      ],
      "execution_count": null,
      "outputs": []
    },
    {
      "cell_type": "code",
      "metadata": {
        "id": "vFmRs1Y1NHDt"
      },
      "source": [
        "countries_perc_yes = votes_joined[votes_joined['country_name'].isin(countries) ].groupby(['year', 'country_name'])['vote'].value_counts(normalize=True)\n"
      ],
      "execution_count": null,
      "outputs": []
    },
    {
      "cell_type": "code",
      "metadata": {
        "id": "eiJ6nrw5NzGq"
      },
      "source": [
        "to_plot = countries_perc_yes.loc[:,:,1]\n",
        "\n",
        "sns.lineplot(x = to_plot.index.get_level_values(0), y = to_plot.values, hue = to_plot.index.get_level_values(1))"
      ],
      "execution_count": null,
      "outputs": []
    },
    {
      "cell_type": "markdown",
      "metadata": {
        "id": "Y9OKqmE1IAA3"
      },
      "source": [
        "## Tidying our data"
      ]
    },
    {
      "cell_type": "code",
      "metadata": {
        "id": "5Ny0kBsSH9DL"
      },
      "source": [
        ""
      ],
      "execution_count": null,
      "outputs": []
    }
  ]
}