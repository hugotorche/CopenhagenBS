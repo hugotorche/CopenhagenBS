{
  "nbformat": 4,
  "nbformat_minor": 0,
  "metadata": {
    "colab": {
      "name": "M1 Workshops: SML AirBnB (Solution).ipynb",
      "provenance": [],
      "collapsed_sections": []
    },
    "kernelspec": {
      "name": "python3",
      "display_name": "Python 3"
    },
    "language_info": {
      "name": "python"
    }
  },
  "cells": [
    {
      "cell_type": "code",
      "metadata": {
        "id": "iKSTY42bQWvq"
      },
      "source": [
        "import pandas as pd\n",
        "import seaborn as sns"
      ],
      "execution_count": null,
      "outputs": []
    },
    {
      "cell_type": "code",
      "metadata": {
        "id": "nZlcVyE7QeBV"
      },
      "source": [
        "data = pd.read_csv('http://data.insideairbnb.com/denmark/hovedstaden/copenhagen/2021-07-20/data/listings.csv.gz')"
      ],
      "execution_count": null,
      "outputs": []
    },
    {
      "cell_type": "code",
      "metadata": {
        "colab": {
          "base_uri": "https://localhost:8080/"
        },
        "id": "TZPYeUHmQlUM",
        "outputId": "bac5fdc2-ba91-4796-8b3a-ebe64bf02dc3"
      },
      "source": [
        "data.info()"
      ],
      "execution_count": null,
      "outputs": [
        {
          "output_type": "stream",
          "name": "stdout",
          "text": [
            "<class 'pandas.core.frame.DataFrame'>\n",
            "RangeIndex: 9949 entries, 0 to 9948\n",
            "Data columns (total 74 columns):\n",
            " #   Column                                        Non-Null Count  Dtype  \n",
            "---  ------                                        --------------  -----  \n",
            " 0   id                                            9949 non-null   int64  \n",
            " 1   listing_url                                   9949 non-null   object \n",
            " 2   scrape_id                                     9949 non-null   int64  \n",
            " 3   last_scraped                                  9949 non-null   object \n",
            " 4   name                                          9948 non-null   object \n",
            " 5   description                                   9597 non-null   object \n",
            " 6   neighborhood_overview                         5611 non-null   object \n",
            " 7   picture_url                                   9949 non-null   object \n",
            " 8   host_id                                       9949 non-null   int64  \n",
            " 9   host_url                                      9949 non-null   object \n",
            " 10  host_name                                     9945 non-null   object \n",
            " 11  host_since                                    9945 non-null   object \n",
            " 12  host_location                                 9928 non-null   object \n",
            " 13  host_about                                    5585 non-null   object \n",
            " 14  host_response_time                            6820 non-null   object \n",
            " 15  host_response_rate                            6820 non-null   object \n",
            " 16  host_acceptance_rate                          6777 non-null   object \n",
            " 17  host_is_superhost                             9945 non-null   object \n",
            " 18  host_thumbnail_url                            9945 non-null   object \n",
            " 19  host_picture_url                              9945 non-null   object \n",
            " 20  host_neighbourhood                            5920 non-null   object \n",
            " 21  host_listings_count                           9945 non-null   float64\n",
            " 22  host_total_listings_count                     9945 non-null   float64\n",
            " 23  host_verifications                            9949 non-null   object \n",
            " 24  host_has_profile_pic                          9945 non-null   object \n",
            " 25  host_identity_verified                        9945 non-null   object \n",
            " 26  neighbourhood                                 5611 non-null   object \n",
            " 27  neighbourhood_cleansed                        9949 non-null   object \n",
            " 28  neighbourhood_group_cleansed                  0 non-null      float64\n",
            " 29  latitude                                      9949 non-null   float64\n",
            " 30  longitude                                     9949 non-null   float64\n",
            " 31  property_type                                 9949 non-null   object \n",
            " 32  room_type                                     9949 non-null   object \n",
            " 33  accommodates                                  9949 non-null   int64  \n",
            " 34  bathrooms                                     0 non-null      float64\n",
            " 35  bathrooms_text                                9932 non-null   object \n",
            " 36  bedrooms                                      9713 non-null   float64\n",
            " 37  beds                                          9876 non-null   float64\n",
            " 38  amenities                                     9949 non-null   object \n",
            " 39  price                                         9949 non-null   object \n",
            " 40  minimum_nights                                9949 non-null   int64  \n",
            " 41  maximum_nights                                9949 non-null   int64  \n",
            " 42  minimum_minimum_nights                        9949 non-null   int64  \n",
            " 43  maximum_minimum_nights                        9949 non-null   int64  \n",
            " 44  minimum_maximum_nights                        9949 non-null   int64  \n",
            " 45  maximum_maximum_nights                        9949 non-null   int64  \n",
            " 46  minimum_nights_avg_ntm                        9949 non-null   float64\n",
            " 47  maximum_nights_avg_ntm                        9949 non-null   float64\n",
            " 48  calendar_updated                              0 non-null      float64\n",
            " 49  has_availability                              9949 non-null   object \n",
            " 50  availability_30                               9949 non-null   int64  \n",
            " 51  availability_60                               9949 non-null   int64  \n",
            " 52  availability_90                               9949 non-null   int64  \n",
            " 53  availability_365                              9949 non-null   int64  \n",
            " 54  calendar_last_scraped                         9949 non-null   object \n",
            " 55  number_of_reviews                             9949 non-null   int64  \n",
            " 56  number_of_reviews_ltm                         9949 non-null   int64  \n",
            " 57  number_of_reviews_l30d                        9949 non-null   int64  \n",
            " 58  first_review                                  8050 non-null   object \n",
            " 59  last_review                                   8050 non-null   object \n",
            " 60  review_scores_rating                          8050 non-null   float64\n",
            " 61  review_scores_accuracy                        7951 non-null   float64\n",
            " 62  review_scores_cleanliness                     7951 non-null   float64\n",
            " 63  review_scores_checkin                         7951 non-null   float64\n",
            " 64  review_scores_communication                   7951 non-null   float64\n",
            " 65  review_scores_location                        7950 non-null   float64\n",
            " 66  review_scores_value                           7950 non-null   float64\n",
            " 67  license                                       0 non-null      float64\n",
            " 68  instant_bookable                              9949 non-null   object \n",
            " 69  calculated_host_listings_count                9949 non-null   int64  \n",
            " 70  calculated_host_listings_count_entire_homes   9949 non-null   int64  \n",
            " 71  calculated_host_listings_count_private_rooms  9949 non-null   int64  \n",
            " 72  calculated_host_listings_count_shared_rooms   9949 non-null   int64  \n",
            " 73  reviews_per_month                             8050 non-null   float64\n",
            "dtypes: float64(20), int64(21), object(33)\n",
            "memory usage: 5.6+ MB\n"
          ]
        }
      ]
    },
    {
      "cell_type": "code",
      "metadata": {
        "colab": {
          "base_uri": "https://localhost:8080/",
          "height": 665
        },
        "id": "Xk4g_OK1QnVn",
        "outputId": "4687ffdb-23f6-4b40-ca22-167101506520"
      },
      "source": [
        "# that's how you get dummies on one or several columns\n",
        "pd.get_dummies(data.neighbourhood_cleansed.sample(20))"
      ],
      "execution_count": null,
      "outputs": [
        {
          "output_type": "execute_result",
          "data": {
            "text/html": [
              "<div>\n",
              "<style scoped>\n",
              "    .dataframe tbody tr th:only-of-type {\n",
              "        vertical-align: middle;\n",
              "    }\n",
              "\n",
              "    .dataframe tbody tr th {\n",
              "        vertical-align: top;\n",
              "    }\n",
              "\n",
              "    .dataframe thead th {\n",
              "        text-align: right;\n",
              "    }\n",
              "</style>\n",
              "<table border=\"1\" class=\"dataframe\">\n",
              "  <thead>\n",
              "    <tr style=\"text-align: right;\">\n",
              "      <th></th>\n",
              "      <th>Amager Vest</th>\n",
              "      <th>Amager st</th>\n",
              "      <th>Frederiksberg</th>\n",
              "      <th>Indre By</th>\n",
              "      <th>Nrrebro</th>\n",
              "      <th>Vanlse</th>\n",
              "      <th>Vesterbro-Kongens Enghave</th>\n",
              "      <th>sterbro</th>\n",
              "    </tr>\n",
              "  </thead>\n",
              "  <tbody>\n",
              "    <tr>\n",
              "      <th>4430</th>\n",
              "      <td>0</td>\n",
              "      <td>0</td>\n",
              "      <td>0</td>\n",
              "      <td>0</td>\n",
              "      <td>0</td>\n",
              "      <td>0</td>\n",
              "      <td>0</td>\n",
              "      <td>1</td>\n",
              "    </tr>\n",
              "    <tr>\n",
              "      <th>8627</th>\n",
              "      <td>0</td>\n",
              "      <td>0</td>\n",
              "      <td>0</td>\n",
              "      <td>0</td>\n",
              "      <td>0</td>\n",
              "      <td>0</td>\n",
              "      <td>0</td>\n",
              "      <td>1</td>\n",
              "    </tr>\n",
              "    <tr>\n",
              "      <th>5478</th>\n",
              "      <td>0</td>\n",
              "      <td>0</td>\n",
              "      <td>1</td>\n",
              "      <td>0</td>\n",
              "      <td>0</td>\n",
              "      <td>0</td>\n",
              "      <td>0</td>\n",
              "      <td>0</td>\n",
              "    </tr>\n",
              "    <tr>\n",
              "      <th>9767</th>\n",
              "      <td>0</td>\n",
              "      <td>0</td>\n",
              "      <td>0</td>\n",
              "      <td>0</td>\n",
              "      <td>0</td>\n",
              "      <td>1</td>\n",
              "      <td>0</td>\n",
              "      <td>0</td>\n",
              "    </tr>\n",
              "    <tr>\n",
              "      <th>3206</th>\n",
              "      <td>1</td>\n",
              "      <td>0</td>\n",
              "      <td>0</td>\n",
              "      <td>0</td>\n",
              "      <td>0</td>\n",
              "      <td>0</td>\n",
              "      <td>0</td>\n",
              "      <td>0</td>\n",
              "    </tr>\n",
              "    <tr>\n",
              "      <th>1466</th>\n",
              "      <td>0</td>\n",
              "      <td>1</td>\n",
              "      <td>0</td>\n",
              "      <td>0</td>\n",
              "      <td>0</td>\n",
              "      <td>0</td>\n",
              "      <td>0</td>\n",
              "      <td>0</td>\n",
              "    </tr>\n",
              "    <tr>\n",
              "      <th>7297</th>\n",
              "      <td>0</td>\n",
              "      <td>0</td>\n",
              "      <td>0</td>\n",
              "      <td>0</td>\n",
              "      <td>0</td>\n",
              "      <td>0</td>\n",
              "      <td>1</td>\n",
              "      <td>0</td>\n",
              "    </tr>\n",
              "    <tr>\n",
              "      <th>4070</th>\n",
              "      <td>0</td>\n",
              "      <td>1</td>\n",
              "      <td>0</td>\n",
              "      <td>0</td>\n",
              "      <td>0</td>\n",
              "      <td>0</td>\n",
              "      <td>0</td>\n",
              "      <td>0</td>\n",
              "    </tr>\n",
              "    <tr>\n",
              "      <th>8381</th>\n",
              "      <td>0</td>\n",
              "      <td>0</td>\n",
              "      <td>1</td>\n",
              "      <td>0</td>\n",
              "      <td>0</td>\n",
              "      <td>0</td>\n",
              "      <td>0</td>\n",
              "      <td>0</td>\n",
              "    </tr>\n",
              "    <tr>\n",
              "      <th>4688</th>\n",
              "      <td>0</td>\n",
              "      <td>0</td>\n",
              "      <td>1</td>\n",
              "      <td>0</td>\n",
              "      <td>0</td>\n",
              "      <td>0</td>\n",
              "      <td>0</td>\n",
              "      <td>0</td>\n",
              "    </tr>\n",
              "    <tr>\n",
              "      <th>4966</th>\n",
              "      <td>0</td>\n",
              "      <td>0</td>\n",
              "      <td>0</td>\n",
              "      <td>0</td>\n",
              "      <td>1</td>\n",
              "      <td>0</td>\n",
              "      <td>0</td>\n",
              "      <td>0</td>\n",
              "    </tr>\n",
              "    <tr>\n",
              "      <th>7897</th>\n",
              "      <td>0</td>\n",
              "      <td>0</td>\n",
              "      <td>0</td>\n",
              "      <td>1</td>\n",
              "      <td>0</td>\n",
              "      <td>0</td>\n",
              "      <td>0</td>\n",
              "      <td>0</td>\n",
              "    </tr>\n",
              "    <tr>\n",
              "      <th>2564</th>\n",
              "      <td>0</td>\n",
              "      <td>0</td>\n",
              "      <td>0</td>\n",
              "      <td>0</td>\n",
              "      <td>0</td>\n",
              "      <td>0</td>\n",
              "      <td>1</td>\n",
              "      <td>0</td>\n",
              "    </tr>\n",
              "    <tr>\n",
              "      <th>1621</th>\n",
              "      <td>0</td>\n",
              "      <td>0</td>\n",
              "      <td>0</td>\n",
              "      <td>0</td>\n",
              "      <td>1</td>\n",
              "      <td>0</td>\n",
              "      <td>0</td>\n",
              "      <td>0</td>\n",
              "    </tr>\n",
              "    <tr>\n",
              "      <th>1365</th>\n",
              "      <td>0</td>\n",
              "      <td>0</td>\n",
              "      <td>1</td>\n",
              "      <td>0</td>\n",
              "      <td>0</td>\n",
              "      <td>0</td>\n",
              "      <td>0</td>\n",
              "      <td>0</td>\n",
              "    </tr>\n",
              "    <tr>\n",
              "      <th>1656</th>\n",
              "      <td>0</td>\n",
              "      <td>0</td>\n",
              "      <td>0</td>\n",
              "      <td>1</td>\n",
              "      <td>0</td>\n",
              "      <td>0</td>\n",
              "      <td>0</td>\n",
              "      <td>0</td>\n",
              "    </tr>\n",
              "    <tr>\n",
              "      <th>8217</th>\n",
              "      <td>0</td>\n",
              "      <td>0</td>\n",
              "      <td>0</td>\n",
              "      <td>0</td>\n",
              "      <td>0</td>\n",
              "      <td>0</td>\n",
              "      <td>1</td>\n",
              "      <td>0</td>\n",
              "    </tr>\n",
              "    <tr>\n",
              "      <th>7722</th>\n",
              "      <td>1</td>\n",
              "      <td>0</td>\n",
              "      <td>0</td>\n",
              "      <td>0</td>\n",
              "      <td>0</td>\n",
              "      <td>0</td>\n",
              "      <td>0</td>\n",
              "      <td>0</td>\n",
              "    </tr>\n",
              "    <tr>\n",
              "      <th>2023</th>\n",
              "      <td>0</td>\n",
              "      <td>0</td>\n",
              "      <td>0</td>\n",
              "      <td>0</td>\n",
              "      <td>0</td>\n",
              "      <td>0</td>\n",
              "      <td>0</td>\n",
              "      <td>1</td>\n",
              "    </tr>\n",
              "    <tr>\n",
              "      <th>6115</th>\n",
              "      <td>0</td>\n",
              "      <td>1</td>\n",
              "      <td>0</td>\n",
              "      <td>0</td>\n",
              "      <td>0</td>\n",
              "      <td>0</td>\n",
              "      <td>0</td>\n",
              "      <td>0</td>\n",
              "    </tr>\n",
              "  </tbody>\n",
              "</table>\n",
              "</div>"
            ],
            "text/plain": [
              "      Amager Vest  Amager st  ...  Vesterbro-Kongens Enghave  sterbro\n",
              "4430            0          0  ...                          0        1\n",
              "8627            0          0  ...                          0        1\n",
              "5478            0          0  ...                          0        0\n",
              "9767            0          0  ...                          0        0\n",
              "3206            1          0  ...                          0        0\n",
              "1466            0          1  ...                          0        0\n",
              "7297            0          0  ...                          1        0\n",
              "4070            0          1  ...                          0        0\n",
              "8381            0          0  ...                          0        0\n",
              "4688            0          0  ...                          0        0\n",
              "4966            0          0  ...                          0        0\n",
              "7897            0          0  ...                          0        0\n",
              "2564            0          0  ...                          1        0\n",
              "1621            0          0  ...                          0        0\n",
              "1365            0          0  ...                          0        0\n",
              "1656            0          0  ...                          0        0\n",
              "8217            0          0  ...                          1        0\n",
              "7722            1          0  ...                          0        0\n",
              "2023            0          0  ...                          0        1\n",
              "6115            0          1  ...                          0        0\n",
              "\n",
              "[20 rows x 8 columns]"
            ]
          },
          "metadata": {},
          "execution_count": 79
        }
      ]
    },
    {
      "cell_type": "code",
      "metadata": {
        "colab": {
          "base_uri": "https://localhost:8080/"
        },
        "id": "V4XQw4hdRshQ",
        "outputId": "854cbb97-99a6-4745-f9ac-76933cde299f"
      },
      "source": [
        "# let's check the price\n",
        "data.price"
      ],
      "execution_count": null,
      "outputs": [
        {
          "output_type": "execute_result",
          "data": {
            "text/plain": [
              "0         $365.00\n",
              "1       $2,400.00\n",
              "2         $729.00\n",
              "3         $750.00\n",
              "4       $1,153.00\n",
              "          ...    \n",
              "9944      $508.00\n",
              "9945    $1,000.00\n",
              "9946    $1,756.00\n",
              "9947    $1,137.00\n",
              "9948      $650.00\n",
              "Name: price, Length: 9949, dtype: object"
            ]
          },
          "metadata": {},
          "execution_count": 8
        }
      ]
    },
    {
      "cell_type": "markdown",
      "metadata": {
        "id": "f5zmqKK_UJmc"
      },
      "source": [
        "1. Prepare dependant variable\n",
        "2. select independant (features)\n",
        "3. filter (remove outliers?; focus on certain types of listings? What is representative?)\n",
        "4. encode and prepare for standardization/other preprocessing\n"
      ]
    },
    {
      "cell_type": "code",
      "metadata": {
        "id": "4K8s8-KdUBjR"
      },
      "source": [
        "# Fix price variable and recode into float/numerical\n",
        "data.price = data.price.str.replace(',','')\n",
        "data.price = data.price.str.replace('$','')\n",
        "data.price = data.price.astype(float)"
      ],
      "execution_count": null,
      "outputs": []
    },
    {
      "cell_type": "code",
      "metadata": {
        "id": "NfEcJPhLcv3g"
      },
      "source": [
        "# select independant variables X\n",
        "# select target y\n",
        "\n",
        "columns = [39,17,25,27,31,32,33,34,36,37,40,50,51,52,53,55,60,61,62,63,64,65,66,68,73]\n",
        "data = data.iloc[:,columns]"
      ],
      "execution_count": null,
      "outputs": []
    },
    {
      "cell_type": "markdown",
      "metadata": {
        "id": "XvlXhIwisRmJ"
      },
      "source": [
        "## detour into imputation\n",
        "\n",
        "no need to run that...just an example"
      ]
    },
    {
      "cell_type": "code",
      "metadata": {
        "colab": {
          "base_uri": "https://localhost:8080/"
        },
        "id": "1qb73rxsoBcU",
        "outputId": "a3d9d9e6-3047-4a01-e6dd-4ad613131e32"
      },
      "source": [
        "!pip install fancyimpute"
      ],
      "execution_count": null,
      "outputs": [
        {
          "output_type": "stream",
          "name": "stdout",
          "text": [
            "Collecting fancyimpute\n",
            "  Downloading fancyimpute-0.6.1-py3-none-any.whl (30 kB)\n",
            "Requirement already satisfied: cvxopt in /usr/local/lib/python3.7/dist-packages (from fancyimpute) (1.2.6)\n",
            "Requirement already satisfied: keras>=2.4.3 in /usr/local/lib/python3.7/dist-packages (from fancyimpute) (2.6.0)\n",
            "Collecting scikit-learn>=0.24.2\n",
            "  Downloading scikit_learn-0.24.2-cp37-cp37m-manylinux2010_x86_64.whl (22.3 MB)\n",
            "\u001b[K     |████████████████████████████████| 22.3 MB 6.1 MB/s \n",
            "\u001b[?25hRequirement already satisfied: numpy==1.19.5 in /usr/local/lib/python3.7/dist-packages (from fancyimpute) (1.19.5)\n",
            "Requirement already satisfied: tensorflow>=2.5.1 in /usr/local/lib/python3.7/dist-packages (from fancyimpute) (2.6.0)\n",
            "Collecting cvxpy==1.1.13\n",
            "  Downloading cvxpy-1.1.13-cp37-cp37m-manylinux_2_24_x86_64.whl (2.7 MB)\n",
            "\u001b[K     |████████████████████████████████| 2.7 MB 43.0 MB/s \n",
            "\u001b[?25hCollecting knnimpute>=0.1.0\n",
            "  Downloading knnimpute-0.1.0.tar.gz (8.3 kB)\n",
            "Requirement already satisfied: scs>=1.1.6 in /usr/local/lib/python3.7/dist-packages (from cvxpy==1.1.13->fancyimpute) (2.1.4)\n",
            "Requirement already satisfied: osqp>=0.4.1 in /usr/local/lib/python3.7/dist-packages (from cvxpy==1.1.13->fancyimpute) (0.6.2.post0)\n",
            "Requirement already satisfied: scipy>=1.1.0 in /usr/local/lib/python3.7/dist-packages (from cvxpy==1.1.13->fancyimpute) (1.4.1)\n",
            "Requirement already satisfied: ecos>=2 in /usr/local/lib/python3.7/dist-packages (from cvxpy==1.1.13->fancyimpute) (2.0.7.post1)\n",
            "Requirement already satisfied: six in /usr/local/lib/python3.7/dist-packages (from knnimpute>=0.1.0->fancyimpute) (1.15.0)\n",
            "Requirement already satisfied: qdldl in /usr/local/lib/python3.7/dist-packages (from osqp>=0.4.1->cvxpy==1.1.13->fancyimpute) (0.1.5.post0)\n",
            "Requirement already satisfied: joblib>=0.11 in /usr/local/lib/python3.7/dist-packages (from scikit-learn>=0.24.2->fancyimpute) (1.0.1)\n",
            "Collecting threadpoolctl>=2.0.0\n",
            "  Downloading threadpoolctl-2.2.0-py3-none-any.whl (12 kB)\n",
            "Requirement already satisfied: gast==0.4.0 in /usr/local/lib/python3.7/dist-packages (from tensorflow>=2.5.1->fancyimpute) (0.4.0)\n",
            "Requirement already satisfied: clang~=5.0 in /usr/local/lib/python3.7/dist-packages (from tensorflow>=2.5.1->fancyimpute) (5.0)\n",
            "Requirement already satisfied: tensorboard~=2.6 in /usr/local/lib/python3.7/dist-packages (from tensorflow>=2.5.1->fancyimpute) (2.6.0)\n",
            "Requirement already satisfied: flatbuffers~=1.12.0 in /usr/local/lib/python3.7/dist-packages (from tensorflow>=2.5.1->fancyimpute) (1.12)\n",
            "Requirement already satisfied: wrapt~=1.12.1 in /usr/local/lib/python3.7/dist-packages (from tensorflow>=2.5.1->fancyimpute) (1.12.1)\n",
            "Requirement already satisfied: protobuf>=3.9.2 in /usr/local/lib/python3.7/dist-packages (from tensorflow>=2.5.1->fancyimpute) (3.17.3)\n",
            "Requirement already satisfied: h5py~=3.1.0 in /usr/local/lib/python3.7/dist-packages (from tensorflow>=2.5.1->fancyimpute) (3.1.0)\n",
            "Requirement already satisfied: termcolor~=1.1.0 in /usr/local/lib/python3.7/dist-packages (from tensorflow>=2.5.1->fancyimpute) (1.1.0)\n",
            "Requirement already satisfied: wheel~=0.35 in /usr/local/lib/python3.7/dist-packages (from tensorflow>=2.5.1->fancyimpute) (0.37.0)\n",
            "Requirement already satisfied: opt-einsum~=3.3.0 in /usr/local/lib/python3.7/dist-packages (from tensorflow>=2.5.1->fancyimpute) (3.3.0)\n",
            "Requirement already satisfied: astunparse~=1.6.3 in /usr/local/lib/python3.7/dist-packages (from tensorflow>=2.5.1->fancyimpute) (1.6.3)\n",
            "Requirement already satisfied: grpcio<2.0,>=1.37.0 in /usr/local/lib/python3.7/dist-packages (from tensorflow>=2.5.1->fancyimpute) (1.40.0)\n",
            "Requirement already satisfied: typing-extensions~=3.7.4 in /usr/local/lib/python3.7/dist-packages (from tensorflow>=2.5.1->fancyimpute) (3.7.4.3)\n",
            "Requirement already satisfied: keras-preprocessing~=1.1.2 in /usr/local/lib/python3.7/dist-packages (from tensorflow>=2.5.1->fancyimpute) (1.1.2)\n",
            "Requirement already satisfied: absl-py~=0.10 in /usr/local/lib/python3.7/dist-packages (from tensorflow>=2.5.1->fancyimpute) (0.12.0)\n",
            "Requirement already satisfied: tensorflow-estimator~=2.6 in /usr/local/lib/python3.7/dist-packages (from tensorflow>=2.5.1->fancyimpute) (2.6.0)\n",
            "Requirement already satisfied: google-pasta~=0.2 in /usr/local/lib/python3.7/dist-packages (from tensorflow>=2.5.1->fancyimpute) (0.2.0)\n",
            "Requirement already satisfied: cached-property in /usr/local/lib/python3.7/dist-packages (from h5py~=3.1.0->tensorflow>=2.5.1->fancyimpute) (1.5.2)\n",
            "Requirement already satisfied: tensorboard-data-server<0.7.0,>=0.6.0 in /usr/local/lib/python3.7/dist-packages (from tensorboard~=2.6->tensorflow>=2.5.1->fancyimpute) (0.6.1)\n",
            "Requirement already satisfied: tensorboard-plugin-wit>=1.6.0 in /usr/local/lib/python3.7/dist-packages (from tensorboard~=2.6->tensorflow>=2.5.1->fancyimpute) (1.8.0)\n",
            "Requirement already satisfied: werkzeug>=0.11.15 in /usr/local/lib/python3.7/dist-packages (from tensorboard~=2.6->tensorflow>=2.5.1->fancyimpute) (1.0.1)\n",
            "Requirement already satisfied: google-auth<2,>=1.6.3 in /usr/local/lib/python3.7/dist-packages (from tensorboard~=2.6->tensorflow>=2.5.1->fancyimpute) (1.35.0)\n",
            "Requirement already satisfied: setuptools>=41.0.0 in /usr/local/lib/python3.7/dist-packages (from tensorboard~=2.6->tensorflow>=2.5.1->fancyimpute) (57.4.0)\n",
            "Requirement already satisfied: requests<3,>=2.21.0 in /usr/local/lib/python3.7/dist-packages (from tensorboard~=2.6->tensorflow>=2.5.1->fancyimpute) (2.23.0)\n",
            "Requirement already satisfied: markdown>=2.6.8 in /usr/local/lib/python3.7/dist-packages (from tensorboard~=2.6->tensorflow>=2.5.1->fancyimpute) (3.3.4)\n",
            "Requirement already satisfied: google-auth-oauthlib<0.5,>=0.4.1 in /usr/local/lib/python3.7/dist-packages (from tensorboard~=2.6->tensorflow>=2.5.1->fancyimpute) (0.4.6)\n",
            "Requirement already satisfied: rsa<5,>=3.1.4 in /usr/local/lib/python3.7/dist-packages (from google-auth<2,>=1.6.3->tensorboard~=2.6->tensorflow>=2.5.1->fancyimpute) (4.7.2)\n",
            "Requirement already satisfied: pyasn1-modules>=0.2.1 in /usr/local/lib/python3.7/dist-packages (from google-auth<2,>=1.6.3->tensorboard~=2.6->tensorflow>=2.5.1->fancyimpute) (0.2.8)\n",
            "Requirement already satisfied: cachetools<5.0,>=2.0.0 in /usr/local/lib/python3.7/dist-packages (from google-auth<2,>=1.6.3->tensorboard~=2.6->tensorflow>=2.5.1->fancyimpute) (4.2.2)\n",
            "Requirement already satisfied: requests-oauthlib>=0.7.0 in /usr/local/lib/python3.7/dist-packages (from google-auth-oauthlib<0.5,>=0.4.1->tensorboard~=2.6->tensorflow>=2.5.1->fancyimpute) (1.3.0)\n",
            "Requirement already satisfied: importlib-metadata in /usr/local/lib/python3.7/dist-packages (from markdown>=2.6.8->tensorboard~=2.6->tensorflow>=2.5.1->fancyimpute) (4.8.1)\n",
            "Requirement already satisfied: pyasn1<0.5.0,>=0.4.6 in /usr/local/lib/python3.7/dist-packages (from pyasn1-modules>=0.2.1->google-auth<2,>=1.6.3->tensorboard~=2.6->tensorflow>=2.5.1->fancyimpute) (0.4.8)\n",
            "Requirement already satisfied: idna<3,>=2.5 in /usr/local/lib/python3.7/dist-packages (from requests<3,>=2.21.0->tensorboard~=2.6->tensorflow>=2.5.1->fancyimpute) (2.10)\n",
            "Requirement already satisfied: urllib3!=1.25.0,!=1.25.1,<1.26,>=1.21.1 in /usr/local/lib/python3.7/dist-packages (from requests<3,>=2.21.0->tensorboard~=2.6->tensorflow>=2.5.1->fancyimpute) (1.24.3)\n",
            "Requirement already satisfied: certifi>=2017.4.17 in /usr/local/lib/python3.7/dist-packages (from requests<3,>=2.21.0->tensorboard~=2.6->tensorflow>=2.5.1->fancyimpute) (2021.5.30)\n",
            "Requirement already satisfied: chardet<4,>=3.0.2 in /usr/local/lib/python3.7/dist-packages (from requests<3,>=2.21.0->tensorboard~=2.6->tensorflow>=2.5.1->fancyimpute) (3.0.4)\n",
            "Requirement already satisfied: oauthlib>=3.0.0 in /usr/local/lib/python3.7/dist-packages (from requests-oauthlib>=0.7.0->google-auth-oauthlib<0.5,>=0.4.1->tensorboard~=2.6->tensorflow>=2.5.1->fancyimpute) (3.1.1)\n",
            "Requirement already satisfied: zipp>=0.5 in /usr/local/lib/python3.7/dist-packages (from importlib-metadata->markdown>=2.6.8->tensorboard~=2.6->tensorflow>=2.5.1->fancyimpute) (3.5.0)\n",
            "Building wheels for collected packages: knnimpute\n",
            "  Building wheel for knnimpute (setup.py) ... \u001b[?25l\u001b[?25hdone\n",
            "  Created wheel for knnimpute: filename=knnimpute-0.1.0-py3-none-any.whl size=11353 sha256=d6ce75e28216608c59277adb7c5cf609e8bd4b7a579729411e0a665eeab8b8c2\n",
            "  Stored in directory: /root/.cache/pip/wheels/72/21/a8/a045cacd9838abd5643f6bfa852c0796a99d6b1494760494e0\n",
            "Successfully built knnimpute\n",
            "Installing collected packages: threadpoolctl, scikit-learn, knnimpute, cvxpy, fancyimpute\n",
            "  Attempting uninstall: scikit-learn\n",
            "    Found existing installation: scikit-learn 0.22.2.post1\n",
            "    Uninstalling scikit-learn-0.22.2.post1:\n",
            "      Successfully uninstalled scikit-learn-0.22.2.post1\n",
            "  Attempting uninstall: cvxpy\n",
            "    Found existing installation: cvxpy 1.0.31\n",
            "    Uninstalling cvxpy-1.0.31:\n",
            "      Successfully uninstalled cvxpy-1.0.31\n",
            "Successfully installed cvxpy-1.1.13 fancyimpute-0.6.1 knnimpute-0.1.0 scikit-learn-0.24.2 threadpoolctl-2.2.0\n"
          ]
        }
      ]
    },
    {
      "cell_type": "code",
      "metadata": {
        "id": "EF-b9wrcpErT"
      },
      "source": [
        "from fancyimpute import KNN"
      ],
      "execution_count": null,
      "outputs": []
    },
    {
      "cell_type": "code",
      "metadata": {
        "colab": {
          "base_uri": "https://localhost:8080/"
        },
        "id": "MY-mO0V_pSAB",
        "outputId": "1b280e20-39ea-42cc-cae7-9e15113055f8"
      },
      "source": [
        "data.info()"
      ],
      "execution_count": null,
      "outputs": [
        {
          "output_type": "stream",
          "name": "stdout",
          "text": [
            "<class 'pandas.core.frame.DataFrame'>\n",
            "RangeIndex: 9949 entries, 0 to 9948\n",
            "Data columns (total 74 columns):\n",
            " #   Column                                        Non-Null Count  Dtype  \n",
            "---  ------                                        --------------  -----  \n",
            " 0   id                                            9949 non-null   int64  \n",
            " 1   listing_url                                   9949 non-null   object \n",
            " 2   scrape_id                                     9949 non-null   int64  \n",
            " 3   last_scraped                                  9949 non-null   object \n",
            " 4   name                                          9948 non-null   object \n",
            " 5   description                                   9597 non-null   object \n",
            " 6   neighborhood_overview                         5611 non-null   object \n",
            " 7   picture_url                                   9949 non-null   object \n",
            " 8   host_id                                       9949 non-null   int64  \n",
            " 9   host_url                                      9949 non-null   object \n",
            " 10  host_name                                     9945 non-null   object \n",
            " 11  host_since                                    9945 non-null   object \n",
            " 12  host_location                                 9928 non-null   object \n",
            " 13  host_about                                    5585 non-null   object \n",
            " 14  host_response_time                            6820 non-null   object \n",
            " 15  host_response_rate                            6820 non-null   object \n",
            " 16  host_acceptance_rate                          6777 non-null   object \n",
            " 17  host_is_superhost                             9945 non-null   object \n",
            " 18  host_thumbnail_url                            9945 non-null   object \n",
            " 19  host_picture_url                              9945 non-null   object \n",
            " 20  host_neighbourhood                            5920 non-null   object \n",
            " 21  host_listings_count                           9945 non-null   float64\n",
            " 22  host_total_listings_count                     9945 non-null   float64\n",
            " 23  host_verifications                            9949 non-null   object \n",
            " 24  host_has_profile_pic                          9945 non-null   object \n",
            " 25  host_identity_verified                        9945 non-null   object \n",
            " 26  neighbourhood                                 5611 non-null   object \n",
            " 27  neighbourhood_cleansed                        9949 non-null   object \n",
            " 28  neighbourhood_group_cleansed                  0 non-null      float64\n",
            " 29  latitude                                      9949 non-null   float64\n",
            " 30  longitude                                     9949 non-null   float64\n",
            " 31  property_type                                 9949 non-null   object \n",
            " 32  room_type                                     9949 non-null   object \n",
            " 33  accommodates                                  9949 non-null   int64  \n",
            " 34  bathrooms                                     0 non-null      float64\n",
            " 35  bathrooms_text                                9932 non-null   object \n",
            " 36  bedrooms                                      9713 non-null   float64\n",
            " 37  beds                                          9876 non-null   float64\n",
            " 38  amenities                                     9949 non-null   object \n",
            " 39  price                                         9949 non-null   float64\n",
            " 40  minimum_nights                                9949 non-null   int64  \n",
            " 41  maximum_nights                                9949 non-null   int64  \n",
            " 42  minimum_minimum_nights                        9949 non-null   int64  \n",
            " 43  maximum_minimum_nights                        9949 non-null   int64  \n",
            " 44  minimum_maximum_nights                        9949 non-null   int64  \n",
            " 45  maximum_maximum_nights                        9949 non-null   int64  \n",
            " 46  minimum_nights_avg_ntm                        9949 non-null   float64\n",
            " 47  maximum_nights_avg_ntm                        9949 non-null   float64\n",
            " 48  calendar_updated                              0 non-null      float64\n",
            " 49  has_availability                              9949 non-null   object \n",
            " 50  availability_30                               9949 non-null   int64  \n",
            " 51  availability_60                               9949 non-null   int64  \n",
            " 52  availability_90                               9949 non-null   int64  \n",
            " 53  availability_365                              9949 non-null   int64  \n",
            " 54  calendar_last_scraped                         9949 non-null   object \n",
            " 55  number_of_reviews                             9949 non-null   int64  \n",
            " 56  number_of_reviews_ltm                         9949 non-null   int64  \n",
            " 57  number_of_reviews_l30d                        9949 non-null   int64  \n",
            " 58  first_review                                  8050 non-null   object \n",
            " 59  last_review                                   8050 non-null   object \n",
            " 60  review_scores_rating                          8050 non-null   float64\n",
            " 61  review_scores_accuracy                        7951 non-null   float64\n",
            " 62  review_scores_cleanliness                     7951 non-null   float64\n",
            " 63  review_scores_checkin                         7951 non-null   float64\n",
            " 64  review_scores_communication                   7951 non-null   float64\n",
            " 65  review_scores_location                        7950 non-null   float64\n",
            " 66  review_scores_value                           7950 non-null   float64\n",
            " 67  license                                       0 non-null      float64\n",
            " 68  instant_bookable                              9949 non-null   object \n",
            " 69  calculated_host_listings_count                9949 non-null   int64  \n",
            " 70  calculated_host_listings_count_entire_homes   9949 non-null   int64  \n",
            " 71  calculated_host_listings_count_private_rooms  9949 non-null   int64  \n",
            " 72  calculated_host_listings_count_shared_rooms   9949 non-null   int64  \n",
            " 73  reviews_per_month                             8050 non-null   float64\n",
            "dtypes: float64(21), int64(21), object(32)\n",
            "memory usage: 5.6+ MB\n"
          ]
        }
      ]
    },
    {
      "cell_type": "code",
      "metadata": {
        "id": "7iBZ6paopeAk"
      },
      "source": [
        "x = data[['bedrooms','reviews_per_month','calculated_host_listings_count','neighbourhood_cleansed']]"
      ],
      "execution_count": null,
      "outputs": []
    },
    {
      "cell_type": "code",
      "metadata": {
        "id": "VJwVyeoWp1Id"
      },
      "source": [
        "x = pd.get_dummies(x)"
      ],
      "execution_count": null,
      "outputs": []
    },
    {
      "cell_type": "code",
      "metadata": {
        "id": "rCfy36EPpNm4"
      },
      "source": [
        "X_filled_knn = KNN(k=3).fit_transform(x)"
      ],
      "execution_count": null,
      "outputs": []
    },
    {
      "cell_type": "code",
      "metadata": {
        "id": "d49FnKGZqRjQ"
      },
      "source": [
        "x_filled_pd = x\n",
        "x_filled_pd.iloc[:,:] = X_filled_knn"
      ],
      "execution_count": null,
      "outputs": []
    },
    {
      "cell_type": "code",
      "metadata": {
        "colab": {
          "base_uri": "https://localhost:8080/",
          "height": 454
        },
        "id": "PlCPnnLdq_cz",
        "outputId": "40ed9350-852d-4776-a5d9-70d7f5fed256"
      },
      "source": [
        "x_filled_pd"
      ],
      "execution_count": null,
      "outputs": [
        {
          "output_type": "execute_result",
          "data": {
            "text/html": [
              "<div>\n",
              "<style scoped>\n",
              "    .dataframe tbody tr th:only-of-type {\n",
              "        vertical-align: middle;\n",
              "    }\n",
              "\n",
              "    .dataframe tbody tr th {\n",
              "        vertical-align: top;\n",
              "    }\n",
              "\n",
              "    .dataframe thead th {\n",
              "        text-align: right;\n",
              "    }\n",
              "</style>\n",
              "<table border=\"1\" class=\"dataframe\">\n",
              "  <thead>\n",
              "    <tr style=\"text-align: right;\">\n",
              "      <th></th>\n",
              "      <th>bedrooms</th>\n",
              "      <th>reviews_per_month</th>\n",
              "      <th>calculated_host_listings_count</th>\n",
              "      <th>neighbourhood_cleansed_Amager Vest</th>\n",
              "      <th>neighbourhood_cleansed_Amager st</th>\n",
              "      <th>neighbourhood_cleansed_Bispebjerg</th>\n",
              "      <th>neighbourhood_cleansed_Brnshj-Husum</th>\n",
              "      <th>neighbourhood_cleansed_Frederiksberg</th>\n",
              "      <th>neighbourhood_cleansed_Indre By</th>\n",
              "      <th>neighbourhood_cleansed_Nrrebro</th>\n",
              "      <th>neighbourhood_cleansed_Valby</th>\n",
              "      <th>neighbourhood_cleansed_Vanlse</th>\n",
              "      <th>neighbourhood_cleansed_Vesterbro-Kongens Enghave</th>\n",
              "      <th>neighbourhood_cleansed_sterbro</th>\n",
              "    </tr>\n",
              "  </thead>\n",
              "  <tbody>\n",
              "    <tr>\n",
              "      <th>0</th>\n",
              "      <td>1.0</td>\n",
              "      <td>1.610000</td>\n",
              "      <td>1.0</td>\n",
              "      <td>0.0</td>\n",
              "      <td>0.0</td>\n",
              "      <td>0.0</td>\n",
              "      <td>0.0</td>\n",
              "      <td>0.0</td>\n",
              "      <td>0.0</td>\n",
              "      <td>1.0</td>\n",
              "      <td>0.0</td>\n",
              "      <td>0.0</td>\n",
              "      <td>0.0</td>\n",
              "      <td>0.0</td>\n",
              "    </tr>\n",
              "    <tr>\n",
              "      <th>1</th>\n",
              "      <td>4.0</td>\n",
              "      <td>0.750000</td>\n",
              "      <td>1.0</td>\n",
              "      <td>0.0</td>\n",
              "      <td>0.0</td>\n",
              "      <td>0.0</td>\n",
              "      <td>0.0</td>\n",
              "      <td>0.0</td>\n",
              "      <td>1.0</td>\n",
              "      <td>0.0</td>\n",
              "      <td>0.0</td>\n",
              "      <td>0.0</td>\n",
              "      <td>0.0</td>\n",
              "      <td>0.0</td>\n",
              "    </tr>\n",
              "    <tr>\n",
              "      <th>2</th>\n",
              "      <td>1.0</td>\n",
              "      <td>0.370000</td>\n",
              "      <td>1.0</td>\n",
              "      <td>0.0</td>\n",
              "      <td>0.0</td>\n",
              "      <td>0.0</td>\n",
              "      <td>0.0</td>\n",
              "      <td>0.0</td>\n",
              "      <td>0.0</td>\n",
              "      <td>0.0</td>\n",
              "      <td>0.0</td>\n",
              "      <td>0.0</td>\n",
              "      <td>1.0</td>\n",
              "      <td>0.0</td>\n",
              "    </tr>\n",
              "    <tr>\n",
              "      <th>3</th>\n",
              "      <td>1.0</td>\n",
              "      <td>0.270000</td>\n",
              "      <td>1.0</td>\n",
              "      <td>0.0</td>\n",
              "      <td>0.0</td>\n",
              "      <td>0.0</td>\n",
              "      <td>0.0</td>\n",
              "      <td>0.0</td>\n",
              "      <td>0.0</td>\n",
              "      <td>0.0</td>\n",
              "      <td>0.0</td>\n",
              "      <td>0.0</td>\n",
              "      <td>1.0</td>\n",
              "      <td>0.0</td>\n",
              "    </tr>\n",
              "    <tr>\n",
              "      <th>4</th>\n",
              "      <td>3.0</td>\n",
              "      <td>0.660000</td>\n",
              "      <td>1.0</td>\n",
              "      <td>0.0</td>\n",
              "      <td>0.0</td>\n",
              "      <td>0.0</td>\n",
              "      <td>0.0</td>\n",
              "      <td>0.0</td>\n",
              "      <td>0.0</td>\n",
              "      <td>0.0</td>\n",
              "      <td>0.0</td>\n",
              "      <td>0.0</td>\n",
              "      <td>1.0</td>\n",
              "      <td>0.0</td>\n",
              "    </tr>\n",
              "    <tr>\n",
              "      <th>...</th>\n",
              "      <td>...</td>\n",
              "      <td>...</td>\n",
              "      <td>...</td>\n",
              "      <td>...</td>\n",
              "      <td>...</td>\n",
              "      <td>...</td>\n",
              "      <td>...</td>\n",
              "      <td>...</td>\n",
              "      <td>...</td>\n",
              "      <td>...</td>\n",
              "      <td>...</td>\n",
              "      <td>...</td>\n",
              "      <td>...</td>\n",
              "      <td>...</td>\n",
              "    </tr>\n",
              "    <tr>\n",
              "      <th>9944</th>\n",
              "      <td>1.0</td>\n",
              "      <td>0.586667</td>\n",
              "      <td>1.0</td>\n",
              "      <td>0.0</td>\n",
              "      <td>1.0</td>\n",
              "      <td>0.0</td>\n",
              "      <td>0.0</td>\n",
              "      <td>0.0</td>\n",
              "      <td>0.0</td>\n",
              "      <td>0.0</td>\n",
              "      <td>0.0</td>\n",
              "      <td>0.0</td>\n",
              "      <td>0.0</td>\n",
              "      <td>0.0</td>\n",
              "    </tr>\n",
              "    <tr>\n",
              "      <th>9945</th>\n",
              "      <td>1.0</td>\n",
              "      <td>0.173333</td>\n",
              "      <td>1.0</td>\n",
              "      <td>0.0</td>\n",
              "      <td>0.0</td>\n",
              "      <td>0.0</td>\n",
              "      <td>0.0</td>\n",
              "      <td>0.0</td>\n",
              "      <td>0.0</td>\n",
              "      <td>0.0</td>\n",
              "      <td>0.0</td>\n",
              "      <td>0.0</td>\n",
              "      <td>0.0</td>\n",
              "      <td>1.0</td>\n",
              "    </tr>\n",
              "    <tr>\n",
              "      <th>9946</th>\n",
              "      <td>2.0</td>\n",
              "      <td>0.386667</td>\n",
              "      <td>1.0</td>\n",
              "      <td>0.0</td>\n",
              "      <td>0.0</td>\n",
              "      <td>0.0</td>\n",
              "      <td>0.0</td>\n",
              "      <td>0.0</td>\n",
              "      <td>1.0</td>\n",
              "      <td>0.0</td>\n",
              "      <td>0.0</td>\n",
              "      <td>0.0</td>\n",
              "      <td>0.0</td>\n",
              "      <td>0.0</td>\n",
              "    </tr>\n",
              "    <tr>\n",
              "      <th>9947</th>\n",
              "      <td>1.0</td>\n",
              "      <td>0.730000</td>\n",
              "      <td>1.0</td>\n",
              "      <td>1.0</td>\n",
              "      <td>0.0</td>\n",
              "      <td>0.0</td>\n",
              "      <td>0.0</td>\n",
              "      <td>0.0</td>\n",
              "      <td>0.0</td>\n",
              "      <td>0.0</td>\n",
              "      <td>0.0</td>\n",
              "      <td>0.0</td>\n",
              "      <td>0.0</td>\n",
              "      <td>0.0</td>\n",
              "    </tr>\n",
              "    <tr>\n",
              "      <th>9948</th>\n",
              "      <td>1.0</td>\n",
              "      <td>0.656667</td>\n",
              "      <td>1.0</td>\n",
              "      <td>0.0</td>\n",
              "      <td>0.0</td>\n",
              "      <td>0.0</td>\n",
              "      <td>0.0</td>\n",
              "      <td>0.0</td>\n",
              "      <td>0.0</td>\n",
              "      <td>0.0</td>\n",
              "      <td>0.0</td>\n",
              "      <td>0.0</td>\n",
              "      <td>1.0</td>\n",
              "      <td>0.0</td>\n",
              "    </tr>\n",
              "  </tbody>\n",
              "</table>\n",
              "<p>9949 rows × 14 columns</p>\n",
              "</div>"
            ],
            "text/plain": [
              "      bedrooms  ...  neighbourhood_cleansed_sterbro\n",
              "0          1.0  ...                             0.0\n",
              "1          4.0  ...                             0.0\n",
              "2          1.0  ...                             0.0\n",
              "3          1.0  ...                             0.0\n",
              "4          3.0  ...                             0.0\n",
              "...        ...  ...                             ...\n",
              "9944       1.0  ...                             0.0\n",
              "9945       1.0  ...                             1.0\n",
              "9946       2.0  ...                             0.0\n",
              "9947       1.0  ...                             0.0\n",
              "9948       1.0  ...                             0.0\n",
              "\n",
              "[9949 rows x 14 columns]"
            ]
          },
          "metadata": {},
          "execution_count": 33
        }
      ]
    },
    {
      "cell_type": "markdown",
      "metadata": {
        "id": "xWDqkGNrsWc6"
      },
      "source": [
        "### back - inspect the features"
      ]
    },
    {
      "cell_type": "code",
      "metadata": {
        "colab": {
          "base_uri": "https://localhost:8080/",
          "height": 605
        },
        "id": "PZj4W9psrMYl",
        "outputId": "cab251ed-07f7-48f4-a00d-fe4e90b18e92"
      },
      "source": [
        "data"
      ],
      "execution_count": null,
      "outputs": [
        {
          "output_type": "execute_result",
          "data": {
            "text/html": [
              "<div>\n",
              "<style scoped>\n",
              "    .dataframe tbody tr th:only-of-type {\n",
              "        vertical-align: middle;\n",
              "    }\n",
              "\n",
              "    .dataframe tbody tr th {\n",
              "        vertical-align: top;\n",
              "    }\n",
              "\n",
              "    .dataframe thead th {\n",
              "        text-align: right;\n",
              "    }\n",
              "</style>\n",
              "<table border=\"1\" class=\"dataframe\">\n",
              "  <thead>\n",
              "    <tr style=\"text-align: right;\">\n",
              "      <th></th>\n",
              "      <th>price</th>\n",
              "      <th>host_is_superhost</th>\n",
              "      <th>host_identity_verified</th>\n",
              "      <th>neighbourhood_cleansed</th>\n",
              "      <th>property_type</th>\n",
              "      <th>room_type</th>\n",
              "      <th>accommodates</th>\n",
              "      <th>bedrooms</th>\n",
              "      <th>beds</th>\n",
              "      <th>minimum_nights</th>\n",
              "      <th>availability_30</th>\n",
              "      <th>availability_60</th>\n",
              "      <th>availability_90</th>\n",
              "      <th>availability_365</th>\n",
              "      <th>number_of_reviews</th>\n",
              "      <th>review_scores_rating</th>\n",
              "      <th>review_scores_accuracy</th>\n",
              "      <th>review_scores_cleanliness</th>\n",
              "      <th>review_scores_checkin</th>\n",
              "      <th>review_scores_communication</th>\n",
              "      <th>review_scores_location</th>\n",
              "      <th>review_scores_value</th>\n",
              "      <th>instant_bookable</th>\n",
              "      <th>reviews_per_month</th>\n",
              "    </tr>\n",
              "  </thead>\n",
              "  <tbody>\n",
              "    <tr>\n",
              "      <th>0</th>\n",
              "      <td>365.0</td>\n",
              "      <td>False</td>\n",
              "      <td>False</td>\n",
              "      <td>Nrrebro</td>\n",
              "      <td>Private room in apartment</td>\n",
              "      <td>Private room</td>\n",
              "      <td>2</td>\n",
              "      <td>1.0</td>\n",
              "      <td>1.0</td>\n",
              "      <td>2</td>\n",
              "      <td>0</td>\n",
              "      <td>0</td>\n",
              "      <td>0</td>\n",
              "      <td>0</td>\n",
              "      <td>168</td>\n",
              "      <td>4.78</td>\n",
              "      <td>4.78</td>\n",
              "      <td>4.78</td>\n",
              "      <td>4.87</td>\n",
              "      <td>4.9</td>\n",
              "      <td>4.72</td>\n",
              "      <td>4.71</td>\n",
              "      <td>False</td>\n",
              "      <td>1.61</td>\n",
              "    </tr>\n",
              "    <tr>\n",
              "      <th>2</th>\n",
              "      <td>729.0</td>\n",
              "      <td>False</td>\n",
              "      <td>True</td>\n",
              "      <td>Vesterbro-Kongens Enghave</td>\n",
              "      <td>Entire apartment</td>\n",
              "      <td>Entire home/apt</td>\n",
              "      <td>2</td>\n",
              "      <td>1.0</td>\n",
              "      <td>1.0</td>\n",
              "      <td>7</td>\n",
              "      <td>0</td>\n",
              "      <td>0</td>\n",
              "      <td>0</td>\n",
              "      <td>46</td>\n",
              "      <td>22</td>\n",
              "      <td>4.91</td>\n",
              "      <td>4.85</td>\n",
              "      <td>4.77</td>\n",
              "      <td>5.00</td>\n",
              "      <td>5.0</td>\n",
              "      <td>4.85</td>\n",
              "      <td>4.77</td>\n",
              "      <td>False</td>\n",
              "      <td>0.37</td>\n",
              "    </tr>\n",
              "    <tr>\n",
              "      <th>3</th>\n",
              "      <td>750.0</td>\n",
              "      <td>False</td>\n",
              "      <td>True</td>\n",
              "      <td>Vesterbro-Kongens Enghave</td>\n",
              "      <td>Entire apartment</td>\n",
              "      <td>Entire home/apt</td>\n",
              "      <td>3</td>\n",
              "      <td>1.0</td>\n",
              "      <td>3.0</td>\n",
              "      <td>2</td>\n",
              "      <td>0</td>\n",
              "      <td>0</td>\n",
              "      <td>0</td>\n",
              "      <td>0</td>\n",
              "      <td>17</td>\n",
              "      <td>4.87</td>\n",
              "      <td>4.80</td>\n",
              "      <td>4.87</td>\n",
              "      <td>4.85</td>\n",
              "      <td>4.8</td>\n",
              "      <td>4.85</td>\n",
              "      <td>4.46</td>\n",
              "      <td>False</td>\n",
              "      <td>0.27</td>\n",
              "    </tr>\n",
              "    <tr>\n",
              "      <th>4</th>\n",
              "      <td>1153.0</td>\n",
              "      <td>False</td>\n",
              "      <td>True</td>\n",
              "      <td>Vesterbro-Kongens Enghave</td>\n",
              "      <td>Entire apartment</td>\n",
              "      <td>Entire home/apt</td>\n",
              "      <td>5</td>\n",
              "      <td>3.0</td>\n",
              "      <td>4.0</td>\n",
              "      <td>3</td>\n",
              "      <td>2</td>\n",
              "      <td>2</td>\n",
              "      <td>2</td>\n",
              "      <td>91</td>\n",
              "      <td>73</td>\n",
              "      <td>4.89</td>\n",
              "      <td>4.96</td>\n",
              "      <td>4.93</td>\n",
              "      <td>4.86</td>\n",
              "      <td>4.9</td>\n",
              "      <td>4.87</td>\n",
              "      <td>4.70</td>\n",
              "      <td>True</td>\n",
              "      <td>0.66</td>\n",
              "    </tr>\n",
              "    <tr>\n",
              "      <th>5</th>\n",
              "      <td>617.0</td>\n",
              "      <td>False</td>\n",
              "      <td>True</td>\n",
              "      <td>sterbro</td>\n",
              "      <td>Entire apartment</td>\n",
              "      <td>Entire home/apt</td>\n",
              "      <td>4</td>\n",
              "      <td>2.0</td>\n",
              "      <td>2.0</td>\n",
              "      <td>100</td>\n",
              "      <td>0</td>\n",
              "      <td>0</td>\n",
              "      <td>0</td>\n",
              "      <td>217</td>\n",
              "      <td>7</td>\n",
              "      <td>4.57</td>\n",
              "      <td>4.75</td>\n",
              "      <td>4.50</td>\n",
              "      <td>5.00</td>\n",
              "      <td>5.0</td>\n",
              "      <td>4.50</td>\n",
              "      <td>4.50</td>\n",
              "      <td>False</td>\n",
              "      <td>0.06</td>\n",
              "    </tr>\n",
              "    <tr>\n",
              "      <th>...</th>\n",
              "      <td>...</td>\n",
              "      <td>...</td>\n",
              "      <td>...</td>\n",
              "      <td>...</td>\n",
              "      <td>...</td>\n",
              "      <td>...</td>\n",
              "      <td>...</td>\n",
              "      <td>...</td>\n",
              "      <td>...</td>\n",
              "      <td>...</td>\n",
              "      <td>...</td>\n",
              "      <td>...</td>\n",
              "      <td>...</td>\n",
              "      <td>...</td>\n",
              "      <td>...</td>\n",
              "      <td>...</td>\n",
              "      <td>...</td>\n",
              "      <td>...</td>\n",
              "      <td>...</td>\n",
              "      <td>...</td>\n",
              "      <td>...</td>\n",
              "      <td>...</td>\n",
              "      <td>...</td>\n",
              "      <td>...</td>\n",
              "    </tr>\n",
              "    <tr>\n",
              "      <th>9707</th>\n",
              "      <td>370.0</td>\n",
              "      <td>False</td>\n",
              "      <td>True</td>\n",
              "      <td>Nrrebro</td>\n",
              "      <td>Entire apartment</td>\n",
              "      <td>Entire home/apt</td>\n",
              "      <td>2</td>\n",
              "      <td>1.0</td>\n",
              "      <td>1.0</td>\n",
              "      <td>1</td>\n",
              "      <td>1</td>\n",
              "      <td>4</td>\n",
              "      <td>4</td>\n",
              "      <td>4</td>\n",
              "      <td>3</td>\n",
              "      <td>5.00</td>\n",
              "      <td>5.00</td>\n",
              "      <td>5.00</td>\n",
              "      <td>5.00</td>\n",
              "      <td>5.0</td>\n",
              "      <td>5.00</td>\n",
              "      <td>5.00</td>\n",
              "      <td>False</td>\n",
              "      <td>3.00</td>\n",
              "    </tr>\n",
              "    <tr>\n",
              "      <th>9708</th>\n",
              "      <td>900.0</td>\n",
              "      <td>True</td>\n",
              "      <td>True</td>\n",
              "      <td>sterbro</td>\n",
              "      <td>Entire apartment</td>\n",
              "      <td>Entire home/apt</td>\n",
              "      <td>2</td>\n",
              "      <td>1.0</td>\n",
              "      <td>2.0</td>\n",
              "      <td>2</td>\n",
              "      <td>12</td>\n",
              "      <td>12</td>\n",
              "      <td>12</td>\n",
              "      <td>12</td>\n",
              "      <td>1</td>\n",
              "      <td>5.00</td>\n",
              "      <td>5.00</td>\n",
              "      <td>5.00</td>\n",
              "      <td>5.00</td>\n",
              "      <td>5.0</td>\n",
              "      <td>5.00</td>\n",
              "      <td>5.00</td>\n",
              "      <td>False</td>\n",
              "      <td>1.00</td>\n",
              "    </tr>\n",
              "    <tr>\n",
              "      <th>9728</th>\n",
              "      <td>600.0</td>\n",
              "      <td>False</td>\n",
              "      <td>True</td>\n",
              "      <td>Vesterbro-Kongens Enghave</td>\n",
              "      <td>Entire apartment</td>\n",
              "      <td>Entire home/apt</td>\n",
              "      <td>3</td>\n",
              "      <td>2.0</td>\n",
              "      <td>2.0</td>\n",
              "      <td>2</td>\n",
              "      <td>3</td>\n",
              "      <td>6</td>\n",
              "      <td>6</td>\n",
              "      <td>206</td>\n",
              "      <td>1</td>\n",
              "      <td>5.00</td>\n",
              "      <td>4.00</td>\n",
              "      <td>5.00</td>\n",
              "      <td>4.00</td>\n",
              "      <td>5.0</td>\n",
              "      <td>4.00</td>\n",
              "      <td>5.00</td>\n",
              "      <td>True</td>\n",
              "      <td>1.00</td>\n",
              "    </tr>\n",
              "    <tr>\n",
              "      <th>9744</th>\n",
              "      <td>1100.0</td>\n",
              "      <td>False</td>\n",
              "      <td>True</td>\n",
              "      <td>Indre By</td>\n",
              "      <td>Entire apartment</td>\n",
              "      <td>Entire home/apt</td>\n",
              "      <td>3</td>\n",
              "      <td>2.0</td>\n",
              "      <td>3.0</td>\n",
              "      <td>3</td>\n",
              "      <td>4</td>\n",
              "      <td>4</td>\n",
              "      <td>21</td>\n",
              "      <td>21</td>\n",
              "      <td>1</td>\n",
              "      <td>5.00</td>\n",
              "      <td>5.00</td>\n",
              "      <td>5.00</td>\n",
              "      <td>5.00</td>\n",
              "      <td>5.0</td>\n",
              "      <td>5.00</td>\n",
              "      <td>5.00</td>\n",
              "      <td>False</td>\n",
              "      <td>1.00</td>\n",
              "    </tr>\n",
              "    <tr>\n",
              "      <th>9767</th>\n",
              "      <td>506.0</td>\n",
              "      <td>False</td>\n",
              "      <td>False</td>\n",
              "      <td>Vanlse</td>\n",
              "      <td>Entire apartment</td>\n",
              "      <td>Entire home/apt</td>\n",
              "      <td>2</td>\n",
              "      <td>1.0</td>\n",
              "      <td>0.0</td>\n",
              "      <td>1</td>\n",
              "      <td>10</td>\n",
              "      <td>14</td>\n",
              "      <td>14</td>\n",
              "      <td>14</td>\n",
              "      <td>1</td>\n",
              "      <td>5.00</td>\n",
              "      <td>5.00</td>\n",
              "      <td>5.00</td>\n",
              "      <td>5.00</td>\n",
              "      <td>5.0</td>\n",
              "      <td>4.00</td>\n",
              "      <td>5.00</td>\n",
              "      <td>False</td>\n",
              "      <td>1.00</td>\n",
              "    </tr>\n",
              "  </tbody>\n",
              "</table>\n",
              "<p>5664 rows × 24 columns</p>\n",
              "</div>"
            ],
            "text/plain": [
              "       price  host_is_superhost  ...  instant_bookable reviews_per_month\n",
              "0      365.0              False  ...             False              1.61\n",
              "2      729.0              False  ...             False              0.37\n",
              "3      750.0              False  ...             False              0.27\n",
              "4     1153.0              False  ...              True              0.66\n",
              "5      617.0              False  ...             False              0.06\n",
              "...      ...                ...  ...               ...               ...\n",
              "9707   370.0              False  ...             False              3.00\n",
              "9708   900.0               True  ...             False              1.00\n",
              "9728   600.0              False  ...              True              1.00\n",
              "9744  1100.0              False  ...             False              1.00\n",
              "9767   506.0              False  ...             False              1.00\n",
              "\n",
              "[5664 rows x 24 columns]"
            ]
          },
          "metadata": {},
          "execution_count": 80
        }
      ]
    },
    {
      "cell_type": "code",
      "metadata": {
        "id": "UmTEPz_OsZTf"
      },
      "source": [
        "bool_dict = {'t' : True, 'f' : False}\n"
      ],
      "execution_count": null,
      "outputs": []
    },
    {
      "cell_type": "code",
      "metadata": {
        "id": "udlogR7gtlus"
      },
      "source": [
        "data.dropna(subset=['host_is_superhost','host_identity_verified','instant_bookable' ], inplace=True)"
      ],
      "execution_count": null,
      "outputs": []
    },
    {
      "cell_type": "code",
      "metadata": {
        "colab": {
          "base_uri": "https://localhost:8080/"
        },
        "id": "ZwRHFjs6t41K",
        "outputId": "2f771c19-51ed-427e-b086-21575b6b8270"
      },
      "source": [
        "data.host_is_superhost.value_counts()"
      ],
      "execution_count": null,
      "outputs": [
        {
          "output_type": "execute_result",
          "data": {
            "text/plain": [
              "False    4724\n",
              "True      940\n",
              "Name: host_is_superhost, dtype: int64"
            ]
          },
          "metadata": {},
          "execution_count": 83
        }
      ]
    },
    {
      "cell_type": "code",
      "metadata": {
        "colab": {
          "base_uri": "https://localhost:8080/"
        },
        "id": "ANHHq8TetMKf",
        "outputId": "c9d93377-7001-4071-ac2a-85fe498264df"
      },
      "source": [
        "data['host_is_superhost'].isnull().sum()"
      ],
      "execution_count": null,
      "outputs": [
        {
          "output_type": "execute_result",
          "data": {
            "text/plain": [
              "0"
            ]
          },
          "metadata": {},
          "execution_count": 84
        }
      ]
    },
    {
      "cell_type": "code",
      "metadata": {
        "id": "vVBLVvoNuHCh"
      },
      "source": [
        "data['host_is_superhost'] = [bool_dict[t] for t in data['host_is_superhost']]\n",
        "data['host_identity_verified'] = [bool_dict[t] for t in data['host_identity_verified']]\n",
        "data['instant_bookable'] = [bool_dict[t] for t in data['instant_bookable']]"
      ],
      "execution_count": null,
      "outputs": []
    },
    {
      "cell_type": "code",
      "metadata": {
        "colab": {
          "base_uri": "https://localhost:8080/",
          "height": 350
        },
        "id": "jQuaO7Ipu3ZS",
        "outputId": "b52372e1-db86-4b5b-ec27-48319a2cdcac"
      },
      "source": [
        "sns.boxplot(data.price, showfliers=False)"
      ],
      "execution_count": null,
      "outputs": [
        {
          "output_type": "stream",
          "name": "stderr",
          "text": [
            "/usr/local/lib/python3.7/dist-packages/seaborn/_decorators.py:43: FutureWarning: Pass the following variable as a keyword arg: x. From version 0.12, the only valid positional argument will be `data`, and passing other arguments without an explicit keyword will result in an error or misinterpretation.\n",
            "  FutureWarning\n"
          ]
        },
        {
          "output_type": "execute_result",
          "data": {
            "text/plain": [
              "<matplotlib.axes._subplots.AxesSubplot at 0x7fbbd450d2d0>"
            ]
          },
          "metadata": {},
          "execution_count": 61
        },
        {
          "output_type": "display_data",
          "data": {
            "image/png": "[encoded data removed]",
            "text/plain": [
              "<Figure size 432x288 with 1 Axes>"
            ]
          },
          "metadata": {
            "needs_background": "light"
          }
        }
      ]
    },
    {
      "cell_type": "code",
      "metadata": {
        "id": "IvfVGjiUvK_E"
      },
      "source": [
        "iqr = data.price.quantile(0.75) - data.price.quantile(0.25)\n",
        "upper = data.price.quantile(0.75) + 1.5*iqr"
      ],
      "execution_count": null,
      "outputs": []
    },
    {
      "cell_type": "code",
      "metadata": {
        "colab": {
          "base_uri": "https://localhost:8080/"
        },
        "id": "QSALIS55wE7N",
        "outputId": "eb317a70-9a84-4995-ad43-bb9495baa13b"
      },
      "source": [
        "upper"
      ],
      "execution_count": null,
      "outputs": [
        {
          "output_type": "execute_result",
          "data": {
            "text/plain": [
              "2082.5"
            ]
          },
          "metadata": {},
          "execution_count": 63
        }
      ]
    },
    {
      "cell_type": "code",
      "metadata": {
        "colab": {
          "base_uri": "https://localhost:8080/"
        },
        "id": "5CybGVMwwFxE",
        "outputId": "32224b4a-b060-4f4e-b9cb-0250d76d81c0"
      },
      "source": [
        "data.price.quantile(0.95)"
      ],
      "execution_count": null,
      "outputs": [
        {
          "output_type": "execute_result",
          "data": {
            "text/plain": [
              "2065.599999999995"
            ]
          },
          "metadata": {},
          "execution_count": 64
        }
      ]
    },
    {
      "cell_type": "code",
      "metadata": {
        "id": "BMbWeVC1wPBw"
      },
      "source": [
        "data = data[data.price <= upper]"
      ],
      "execution_count": null,
      "outputs": []
    },
    {
      "cell_type": "code",
      "metadata": {
        "id": "g0X4cxSlwXFR"
      },
      "source": [
        "data = data.drop(['bathrooms'], axis=1)"
      ],
      "execution_count": null,
      "outputs": []
    },
    {
      "cell_type": "code",
      "metadata": {
        "id": "9w2wHvHfwayC"
      },
      "source": [
        "data = data[data.property_type.isin(['Entire apartment','Private room in apartment'])]"
      ],
      "execution_count": null,
      "outputs": []
    },
    {
      "cell_type": "code",
      "metadata": {
        "id": "eczbnNgwwm5X"
      },
      "source": [
        "data.dropna(inplace=True)"
      ],
      "execution_count": null,
      "outputs": []
    },
    {
      "cell_type": "code",
      "metadata": {
        "id": "obdE3cRLw7Jl"
      },
      "source": [
        "y = data.price\n",
        "X = data.drop(['price'], axis=1)"
      ],
      "execution_count": null,
      "outputs": []
    },
    {
      "cell_type": "code",
      "metadata": {
        "id": "Q75uEhxlxOoX"
      },
      "source": [
        "X = pd.get_dummies(X)"
      ],
      "execution_count": null,
      "outputs": []
    },
    {
      "cell_type": "code",
      "metadata": {
        "id": "8wSCiOdtxWNY"
      },
      "source": [
        "from sklearn.preprocessing import StandardScaler\n",
        "scaler = StandardScaler()"
      ],
      "execution_count": null,
      "outputs": []
    },
    {
      "cell_type": "code",
      "metadata": {
        "id": "VMq1bUiNybkE"
      },
      "source": [
        "X_scaled = scaler.fit_transform(X)"
      ],
      "execution_count": null,
      "outputs": []
    },
    {
      "cell_type": "code",
      "metadata": {
        "id": "AXfjS46myg-p"
      },
      "source": [
        "from sklearn.model_selection import train_test_split"
      ],
      "execution_count": null,
      "outputs": []
    },
    {
      "cell_type": "code",
      "metadata": {
        "id": "2bdS3HLI4Rnp"
      },
      "source": [
        "X_train, X_test, y_train, y_test = train_test_split(X_scaled, y, test_size=0.25)"
      ],
      "execution_count": null,
      "outputs": []
    },
    {
      "cell_type": "code",
      "metadata": {
        "id": "xPqvhlNZ4vro"
      },
      "source": [
        "from sklearn.linear_model import LinearRegression\n",
        "from sklearn.ensemble import RandomForestRegressor\n",
        "model_ols = LinearRegression()\n",
        "model_rf = RandomForestRegressor(n_estimators=25)"
      ],
      "execution_count": null,
      "outputs": []
    },
    {
      "cell_type": "code",
      "metadata": {
        "colab": {
          "base_uri": "https://localhost:8080/"
        },
        "id": "7z3eMp0Q6MNx",
        "outputId": "7967b830-0bdb-4b5f-e23d-23230783810a"
      },
      "source": [
        "model_ols.fit(X_train, y_train)\n",
        "model_rf.fit(X_train, y_train)"
      ],
      "execution_count": null,
      "outputs": [
        {
          "output_type": "execute_result",
          "data": {
            "text/plain": [
              "RandomForestRegressor(n_estimators=25)"
            ]
          },
          "metadata": {},
          "execution_count": 95
        }
      ]
    },
    {
      "cell_type": "code",
      "metadata": {
        "colab": {
          "base_uri": "https://localhost:8080/"
        },
        "id": "P4atQBSK6Nk2",
        "outputId": "f865e4ec-a255-475d-a20c-87e962633315"
      },
      "source": [
        "print('Model OLS' + ' ' + str(model_ols.score(X_test, y_test)))\n",
        "print('Model RF' + ' ' + str(model_rf.score(X_test, y_test)))"
      ],
      "execution_count": null,
      "outputs": [
        {
          "output_type": "stream",
          "name": "stdout",
          "text": [
            "Model OLS 0.5356779770111804\n",
            "Model RF 0.4951571972703456\n"
          ]
        }
      ]
    },
    {
      "cell_type": "code",
      "metadata": {
        "id": "xew5_jK46Tl7"
      },
      "source": [
        "y_pred_rf = model_rf.predict(X_test)"
      ],
      "execution_count": null,
      "outputs": []
    },
    {
      "cell_type": "code",
      "metadata": {
        "colab": {
          "base_uri": "https://localhost:8080/",
          "height": 439
        },
        "id": "Y-kyhHNBBGRT",
        "outputId": "91ab3efe-6d3f-4ca3-a4bd-4582cce45cfa"
      },
      "source": [
        "sns.relplot(y_test, y_pred_rf)"
      ],
      "execution_count": null,
      "outputs": [
        {
          "output_type": "stream",
          "name": "stderr",
          "text": [
            "/usr/local/lib/python3.7/dist-packages/seaborn/_decorators.py:43: FutureWarning: Pass the following variables as keyword args: x, y. From version 0.12, the only valid positional argument will be `data`, and passing other arguments without an explicit keyword will result in an error or misinterpretation.\n",
            "  FutureWarning\n"
          ]
        },
        {
          "output_type": "execute_result",
          "data": {
            "text/plain": [
              "<seaborn.axisgrid.FacetGrid at 0x7fbbd443bb50>"
            ]
          },
          "metadata": {},
          "execution_count": 98
        },
        {
          "output_type": "display_data",
          "data": {
            "image/png": "[encoded data removed]",
            "text/plain": [
              "<Figure size 360x360 with 1 Axes>"
            ]
          },
          "metadata": {
            "needs_background": "light"
          }
        }
      ]
    },
    {
      "cell_type": "code",
      "metadata": {
        "id": "teYSnH_pBT-u"
      },
      "source": [
        "from sklearn.metrics import mean_squared_error "
      ],
      "execution_count": null,
      "outputs": []
    },
    {
      "cell_type": "code",
      "metadata": {
        "colab": {
          "base_uri": "https://localhost:8080/"
        },
        "id": "6gWKZHETBsdh",
        "outputId": "eea852ca-0381-4c97-b16e-d12e3bddcdc7"
      },
      "source": [
        "mean_squared_error(y_test, y_pred_rf)"
      ],
      "execution_count": null,
      "outputs": [
        {
          "output_type": "execute_result",
          "data": {
            "text/plain": [
              "65857.41196497175"
            ]
          },
          "metadata": {},
          "execution_count": 100
        }
      ]
    },
    {
      "cell_type": "code",
      "metadata": {
        "id": "iYHu4YxHBxgV"
      },
      "source": [
        "from math import sqrt"
      ],
      "execution_count": null,
      "outputs": []
    },
    {
      "cell_type": "code",
      "metadata": {
        "colab": {
          "base_uri": "https://localhost:8080/"
        },
        "id": "WOPqrA5yB0t6",
        "outputId": "43c346d5-306f-4359-db19-ec04b4765d3c"
      },
      "source": [
        "sqrt(mean_squared_error(y_test, y_pred_rf))"
      ],
      "execution_count": null,
      "outputs": [
        {
          "output_type": "execute_result",
          "data": {
            "text/plain": [
              "256.62698993864956"
            ]
          },
          "metadata": {},
          "execution_count": 103
        }
      ]
    },
    {
      "cell_type": "code",
      "metadata": {
        "id": "NxFEginJB9HP"
      },
      "source": [
        ""
      ],
      "execution_count": null,
      "outputs": []
    }
  ]
}